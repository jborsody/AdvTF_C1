{
 "cells": [
  {
   "cell_type": "markdown",
   "metadata": {
    "colab_type": "text",
    "id": "ZL_6GK8qX35J"
   },
   "source": [
    "\n",
    "\n",
    "# Week 1: Multiple Output Models using the Keras Functional API\n",
    "\n",
    "Welcome to the first programming assignment of the course! Your task will be to use the Keras functional API to train a model to predict two outputs. For this lab, you will use the **[Wine Quality Dataset](https://archive.ics.uci.edu/ml/datasets/Wine+Quality)** from the **UCI machine learning repository**. It has separate datasets for red wine and white wine.\n",
    "\n",
    "Normally, the wines are classified into one of the quality ratings specified in the attributes. In this exercise, you will combine the two datasets to predict the wine quality and whether the wine is red or white solely from the attributes. \n",
    "\n",
    "You will model wine quality estimations as a regression problem and wine type detection as a binary classification problem.\n",
    "\n",
    "#### Please complete sections that are marked **(TODO)**"
   ]
  },
  {
   "cell_type": "markdown",
   "metadata": {
    "colab_type": "text",
    "id": "obdcD6urYBY9"
   },
   "source": [
    "## Imports"
   ]
  },
  {
   "cell_type": "code",
   "execution_count": 1,
   "metadata": {
    "colab": {},
    "colab_type": "code",
    "id": "t8N3pcTQ5oQI"
   },
   "outputs": [],
   "source": [
    "import tensorflow as tf\n",
    "from tensorflow.keras.models import Model\n",
    "from tensorflow.keras.layers import Dense, Input\n",
    "\n",
    "import numpy as np\n",
    "import matplotlib.pyplot as plt\n",
    "import pandas as pd\n",
    "from sklearn.model_selection import train_test_split\n",
    "from sklearn.metrics import confusion_matrix\n",
    "import itertools\n",
    "\n",
    "import utils"
   ]
  },
  {
   "cell_type": "markdown",
   "metadata": {
    "colab_type": "text",
    "id": "gQMERzWQYpgm"
   },
   "source": [
    "## Load Dataset\n",
    "\n",
    "\n",
    "You will now load the dataset from the [UCI Machine Learning Repository](https://archive.ics.uci.edu/ml/index.php) which are **already saved** in your workspace (*Note: For successful grading, please **do not** modify the default string set to the `URI` variable below*).\n",
    "\n",
    "### Pre-process the white wine dataset (TODO)\n",
    "You will add a new column named `is_red` in your dataframe to indicate if the wine is white or red. \n",
    "- In the white wine dataset, you will fill the column `is_red` with  zeros (0)."
   ]
  },
  {
   "cell_type": "code",
   "execution_count": 2,
   "metadata": {
    "colab": {},
    "colab_type": "code",
    "deletable": false,
    "id": "2qYAjKXCd4RH",
    "nbgrader": {
     "cell_type": "code",
     "checksum": "325ea195519b7035934c95bb529a062c",
     "grade": false,
     "grade_id": "cell-e5bfa0f152d9a21f",
     "locked": false,
     "schema_version": 3,
     "solution": true,
     "task": false
    }
   },
   "outputs": [],
   "source": [
    "## Please uncomment all lines in this cell and replace those marked with `# YOUR CODE HERE`.\n",
    "## You can select all lines in this code cell with Ctrl+A (Windows/Linux) or Cmd+A (Mac), then press Ctrl+/ (Windows/Linux) or Cmd+/ (Mac) to uncomment.\n",
    "\n",
    "\n",
    "\n",
    "# URL of the white wine dataset\n",
    "URI = './winequality-white.csv'\n",
    "\n",
    "# load the dataset from the URL\n",
    "white_df = pd.read_csv(URI, sep=\";\")\n",
    "\n",
    "# fill the `is_red` column with zeros.\n",
    "white_df[\"is_red\"] = 0\n",
    "\n",
    "# keep only the first of duplicate items\n",
    "white_df = white_df.drop_duplicates(keep='first')\n"
   ]
  },
  {
   "cell_type": "code",
   "execution_count": 3,
   "metadata": {
    "deletable": false,
    "editable": false,
    "nbgrader": {
     "cell_type": "code",
     "checksum": "defe38d6ec58fd31cd67b89e46c4373f",
     "grade": true,
     "grade_id": "cell-30575e713b55fc51",
     "locked": true,
     "points": 1,
     "schema_version": 3,
     "solution": false,
     "task": false
    }
   },
   "outputs": [
    {
     "name": "stdout",
     "output_type": "stream",
     "text": [
      "\u001b[92m All public tests passed\n"
     ]
    }
   ],
   "source": [
    "# You can click `File -> Open` in the menu above and open the `utils.py` file \n",
    "# in case you want to inspect the unit tests being used for each graded function.\n",
    "\n",
    "utils.test_white_df(white_df)\n"
   ]
  },
  {
   "cell_type": "code",
   "execution_count": 4,
   "metadata": {
    "colab": {},
    "colab_type": "code",
    "id": "OQHK0ohBQRCk"
   },
   "outputs": [
    {
     "name": "stdout",
     "output_type": "stream",
     "text": [
      "8.8\n",
      "9.1\n"
     ]
    }
   ],
   "source": [
    "print(white_df.alcohol[0])\n",
    "print(white_df.alcohol[100])\n",
    "\n",
    "# EXPECTED OUTPUT\n",
    "# 8.8\n",
    "# 9.1"
   ]
  },
  {
   "cell_type": "markdown",
   "metadata": {},
   "source": [
    "### Pre-process the red wine dataset (TODO)\n",
    "- In the red wine dataset, you will fill in the column `is_red` with ones (1)."
   ]
  },
  {
   "cell_type": "code",
   "execution_count": 8,
   "metadata": {
    "colab": {},
    "colab_type": "code",
    "deletable": false,
    "id": "8y3QxKwBed8v",
    "nbgrader": {
     "cell_type": "code",
     "checksum": "12e0963d15be33b01b4e6ebc8945e51e",
     "grade": false,
     "grade_id": "cell-e47a40f306593274",
     "locked": false,
     "schema_version": 3,
     "solution": true,
     "task": false
    }
   },
   "outputs": [],
   "source": [
    "## Please uncomment all lines in this cell and replace those marked with `# YOUR CODE HERE`.\n",
    "## You can select all lines in this code cell with Ctrl+A (Windows/Linux) or Cmd+A (Mac), then press Ctrl+/ (Windows/Linux) or Cmd+/ (Mac) to uncomment.\n",
    "\n",
    "\n",
    "\n",
    "# URL of the red wine dataset\n",
    "URI = './winequality-red.csv'\n",
    "\n",
    "# load the dataset from the URL\n",
    "red_df = pd.read_csv(URI, sep=\";\")\n",
    "\n",
    "# fill the `is_red` column with ones.\n",
    "red_df[\"is_red\"] = 1\n",
    "\n",
    "# keep only the first of duplicate items\n",
    "red_df = red_df.drop_duplicates(keep='first')\n"
   ]
  },
  {
   "cell_type": "code",
   "execution_count": 9,
   "metadata": {
    "deletable": false,
    "editable": false,
    "nbgrader": {
     "cell_type": "code",
     "checksum": "d8e0c91b0fd668b63ba74a8f2f958b59",
     "grade": true,
     "grade_id": "cell-2a75937adcc0c25b",
     "locked": true,
     "points": 1,
     "schema_version": 3,
     "solution": false,
     "task": false
    }
   },
   "outputs": [
    {
     "name": "stdout",
     "output_type": "stream",
     "text": [
      "\u001b[92m All public tests passed\n"
     ]
    }
   ],
   "source": [
    "utils.test_red_df(red_df)\n"
   ]
  },
  {
   "cell_type": "code",
   "execution_count": 10,
   "metadata": {
    "colab": {},
    "colab_type": "code",
    "id": "zsB3LUzNQpo_"
   },
   "outputs": [
    {
     "name": "stdout",
     "output_type": "stream",
     "text": [
      "9.4\n",
      "10.2\n"
     ]
    }
   ],
   "source": [
    "print(red_df.alcohol[0])\n",
    "print(red_df.alcohol[100])\n",
    "\n",
    "# EXPECTED OUTPUT\n",
    "# 9.4\n",
    "# 10.2"
   ]
  },
  {
   "cell_type": "markdown",
   "metadata": {
    "colab_type": "text",
    "id": "2G8B-NYuM6-f"
   },
   "source": [
    "### Concatenate the datasets\n",
    "\n",
    "Next, concatenate the red and white wine dataframes."
   ]
  },
  {
   "cell_type": "code",
   "execution_count": 11,
   "metadata": {
    "colab": {},
    "colab_type": "code",
    "id": "YpQrOjJbfN3m"
   },
   "outputs": [],
   "source": [
    "df = pd.concat([red_df, white_df], ignore_index=True)"
   ]
  },
  {
   "cell_type": "code",
   "execution_count": 12,
   "metadata": {
    "colab": {},
    "colab_type": "code",
    "id": "Se2dTmThQyjb"
   },
   "outputs": [
    {
     "name": "stdout",
     "output_type": "stream",
     "text": [
      "9.4\n",
      "9.5\n"
     ]
    }
   ],
   "source": [
    "print(df.alcohol[0])\n",
    "print(df.alcohol[100])\n",
    "\n",
    "# EXPECTED OUTPUT\n",
    "# 9.4\n",
    "# 9.5"
   ]
  },
  {
   "cell_type": "markdown",
   "metadata": {},
   "source": [
    "In a real-world scenario, you should shuffle the data. For this assignment however, **you are not** going to do that because the grader needs to test with deterministic data. If you want the code to do it **after** you've gotten your grade for this notebook, we left the commented line below for reference"
   ]
  },
  {
   "cell_type": "code",
   "execution_count": 13,
   "metadata": {
    "colab": {},
    "colab_type": "code",
    "id": "wx6y3rPpQv4k"
   },
   "outputs": [],
   "source": [
    "#df = df.iloc[np.random.permutation(len(df))]"
   ]
  },
  {
   "cell_type": "markdown",
   "metadata": {
    "colab_type": "text",
    "id": "-EqIcbg5M_n1"
   },
   "source": [
    "This will chart the quality of the wines."
   ]
  },
  {
   "cell_type": "code",
   "execution_count": 14,
   "metadata": {
    "colab": {},
    "colab_type": "code",
    "id": "IsvK0-Sgy17C"
   },
   "outputs": [
    {
     "data": {
      "image/png": "[encoded data removed]",
      "text/plain": [
       "<Figure size 640x480 with 1 Axes>"
      ]
     },
     "metadata": {},
     "output_type": "display_data"
    }
   ],
   "source": [
    "df['quality'].hist(bins=20);"
   ]
  },
  {
   "cell_type": "markdown",
   "metadata": {
    "colab_type": "text",
    "id": "Nut1rmYLzf-p"
   },
   "source": [
    "### Imbalanced data (TODO)\n",
    "You can see from the plot above that the wine quality dataset is imbalanced. \n",
    "- Since there are very few observations with quality equal to 3, 4, 8 and 9, you can drop these observations from your dataset. \n",
    "- You can do this by removing data belonging to all classes except those > 4 and < 8."
   ]
  },
  {
   "cell_type": "code",
   "execution_count": 15,
   "metadata": {
    "colab": {},
    "colab_type": "code",
    "deletable": false,
    "id": "doH9_-gnf3sz",
    "nbgrader": {
     "cell_type": "code",
     "checksum": "d9ba9fc3a3ca02ccc567be33652b80fe",
     "grade": false,
     "grade_id": "cell-6a3e9db696f6827b",
     "locked": false,
     "schema_version": 3,
     "solution": true,
     "task": false
    }
   },
   "outputs": [],
   "source": [
    "## Please uncomment all lines in this cell and replace those marked with `# YOUR CODE HERE`.\n",
    "## You can select all lines in this code cell with Ctrl+A (Windows/Linux) or Cmd+A (Mac), then press Ctrl+/ (Windows/Linux) or Cmd+/ (Mac) to uncomment.\n",
    "\n",
    "\n",
    "\n",
    "# get data with wine quality greater than 4 and less than 8\n",
    "df = df[(df['quality'] > 4) & (df['quality'] < 8 )]\n",
    "\n",
    "# reset index and drop the old one\n",
    "df = df.reset_index(drop=True)"
   ]
  },
  {
   "cell_type": "code",
   "execution_count": 16,
   "metadata": {
    "deletable": false,
    "editable": false,
    "nbgrader": {
     "cell_type": "code",
     "checksum": "281e1d86a4803560ed5892cd7eda4c01",
     "grade": true,
     "grade_id": "cell-aed3da719d4682c7",
     "locked": true,
     "points": 1,
     "schema_version": 3,
     "solution": false,
     "task": false
    }
   },
   "outputs": [
    {
     "name": "stdout",
     "output_type": "stream",
     "text": [
      "\u001b[92m All public tests passed\n"
     ]
    }
   ],
   "source": [
    "utils.test_df_drop(df)\n",
    "\n"
   ]
  },
  {
   "cell_type": "code",
   "execution_count": 17,
   "metadata": {
    "colab": {},
    "colab_type": "code",
    "id": "xNR1iAlMRPXO"
   },
   "outputs": [
    {
     "name": "stdout",
     "output_type": "stream",
     "text": [
      "9.4\n",
      "10.9\n"
     ]
    }
   ],
   "source": [
    "print(df.alcohol[0])\n",
    "print(df.alcohol[100])\n",
    "\n",
    "# EXPECTED OUTPUT\n",
    "# 9.4\n",
    "# 10.9"
   ]
  },
  {
   "cell_type": "markdown",
   "metadata": {
    "colab_type": "text",
    "id": "cwhuRpnVRTzG"
   },
   "source": [
    "You can plot again to see the new range of data and quality"
   ]
  },
  {
   "cell_type": "code",
   "execution_count": 18,
   "metadata": {
    "colab": {},
    "colab_type": "code",
    "id": "857ygzZiLgGg"
   },
   "outputs": [
    {
     "data": {
      "image/png": "[encoded data removed]",
      "text/plain": [
       "<Figure size 640x480 with 1 Axes>"
      ]
     },
     "metadata": {},
     "output_type": "display_data"
    }
   ],
   "source": [
    "df['quality'].hist(bins=20);"
   ]
  },
  {
   "cell_type": "markdown",
   "metadata": {
    "colab_type": "text",
    "id": "n3k0vqSsp84t"
   },
   "source": [
    "### Train Test Split (TODO)\n",
    "\n",
    "Next, you can split the datasets into training, test and validation datasets.\n",
    "- The data frame should be split 80:20 into `train` and `test` sets.\n",
    "- The resulting `train` should then be split 80:20 into `train` and `val` sets.\n",
    "- The `train_test_split` parameter `test_size` takes a float value that ranges between 0. and 1, and represents the proportion of the dataset that is allocated to the test set.  The rest of the data is allocated to the training set."
   ]
  },
  {
   "cell_type": "code",
   "execution_count": 19,
   "metadata": {
    "colab": {},
    "colab_type": "code",
    "deletable": false,
    "id": "PAVIf2-fgRVY",
    "nbgrader": {
     "cell_type": "code",
     "checksum": "7f5738f4fb51d65adc9a8acbdf2b9970",
     "grade": false,
     "grade_id": "cell-91946cadf745206b",
     "locked": false,
     "schema_version": 3,
     "solution": true,
     "task": false
    }
   },
   "outputs": [],
   "source": [
    "## Please uncomment all lines in this cell and replace those marked with `# YOUR CODE HERE`.\n",
    "## You can select all lines in this code cell with Ctrl+A (Windows/Linux) or Cmd+A (Mac), then press Ctrl+/ (Windows/Linux) or Cmd+/ (Mac) to uncomment.\n",
    "\n",
    "\n",
    "\n",
    "# Please do not change the random_state parameter. This is needed for grading.\n",
    "\n",
    "# split df into 80:20 train and test sets\n",
    "train, test = train_test_split(df, test_size=0.2, random_state = 1)\n",
    "                               \n",
    "# split train into 80:20 train and val sets\n",
    "train, val = train_test_split(train, test_size=0.2, random_state = 1)"
   ]
  },
  {
   "cell_type": "code",
   "execution_count": 20,
   "metadata": {
    "colab": {},
    "colab_type": "code",
    "deletable": false,
    "editable": false,
    "id": "57h9LcEzRWpk",
    "nbgrader": {
     "cell_type": "code",
     "checksum": "42adbe9e66efac7c7a5f8cd73ac92f22",
     "grade": true,
     "grade_id": "cell-64b8b38cd0b965f6",
     "locked": true,
     "points": 1,
     "schema_version": 3,
     "solution": false,
     "task": false
    }
   },
   "outputs": [
    {
     "name": "stdout",
     "output_type": "stream",
     "text": [
      "\u001b[92m All public tests passed\n"
     ]
    }
   ],
   "source": [
    "utils.test_data_sizes(train.size, test.size, val.size)\n",
    "\n"
   ]
  },
  {
   "cell_type": "markdown",
   "metadata": {
    "colab_type": "text",
    "id": "RwTNu4KFqG-K"
   },
   "source": [
    "Here's where you can explore the training stats. You can pop the labels 'is_red' and 'quality' from the data as these will be used as the labels\n"
   ]
  },
  {
   "cell_type": "code",
   "execution_count": 21,
   "metadata": {
    "colab": {},
    "colab_type": "code",
    "id": "Y_afyhhHM6WQ"
   },
   "outputs": [],
   "source": [
    "train_stats = train.describe()\n",
    "train_stats.pop('is_red')\n",
    "train_stats.pop('quality')\n",
    "train_stats = train_stats.transpose()"
   ]
  },
  {
   "cell_type": "markdown",
   "metadata": {
    "colab_type": "text",
    "id": "ahvbYm4fNqSt"
   },
   "source": [
    "Explore the training stats!"
   ]
  },
  {
   "cell_type": "code",
   "execution_count": 22,
   "metadata": {
    "colab": {},
    "colab_type": "code",
    "id": "n_gAtPjZ0otF"
   },
   "outputs": [
    {
     "data": {
      "text/html": [
       "<div>\n",
       "<style scoped>\n",
       "    .dataframe tbody tr th:only-of-type {\n",
       "        vertical-align: middle;\n",
       "    }\n",
       "\n",
       "    .dataframe tbody tr th {\n",
       "        vertical-align: top;\n",
       "    }\n",
       "\n",
       "    .dataframe thead th {\n",
       "        text-align: right;\n",
       "    }\n",
       "</style>\n",
       "<table border=\"1\" class=\"dataframe\">\n",
       "  <thead>\n",
       "    <tr style=\"text-align: right;\">\n",
       "      <th></th>\n",
       "      <th>count</th>\n",
       "      <th>mean</th>\n",
       "      <th>std</th>\n",
       "      <th>min</th>\n",
       "      <th>25%</th>\n",
       "      <th>50%</th>\n",
       "      <th>75%</th>\n",
       "      <th>max</th>\n",
       "    </tr>\n",
       "  </thead>\n",
       "  <tbody>\n",
       "    <tr>\n",
       "      <th>fixed acidity</th>\n",
       "      <td>3155.0</td>\n",
       "      <td>7.221616</td>\n",
       "      <td>1.325297</td>\n",
       "      <td>3.80000</td>\n",
       "      <td>6.40000</td>\n",
       "      <td>7.00000</td>\n",
       "      <td>7.7000</td>\n",
       "      <td>15.60000</td>\n",
       "    </tr>\n",
       "    <tr>\n",
       "      <th>volatile acidity</th>\n",
       "      <td>3155.0</td>\n",
       "      <td>0.338929</td>\n",
       "      <td>0.162476</td>\n",
       "      <td>0.08000</td>\n",
       "      <td>0.23000</td>\n",
       "      <td>0.29000</td>\n",
       "      <td>0.4000</td>\n",
       "      <td>1.24000</td>\n",
       "    </tr>\n",
       "    <tr>\n",
       "      <th>citric acid</th>\n",
       "      <td>3155.0</td>\n",
       "      <td>0.321569</td>\n",
       "      <td>0.147970</td>\n",
       "      <td>0.00000</td>\n",
       "      <td>0.25000</td>\n",
       "      <td>0.31000</td>\n",
       "      <td>0.4000</td>\n",
       "      <td>1.66000</td>\n",
       "    </tr>\n",
       "    <tr>\n",
       "      <th>residual sugar</th>\n",
       "      <td>3155.0</td>\n",
       "      <td>5.155911</td>\n",
       "      <td>4.639632</td>\n",
       "      <td>0.60000</td>\n",
       "      <td>1.80000</td>\n",
       "      <td>2.80000</td>\n",
       "      <td>7.6500</td>\n",
       "      <td>65.80000</td>\n",
       "    </tr>\n",
       "    <tr>\n",
       "      <th>chlorides</th>\n",
       "      <td>3155.0</td>\n",
       "      <td>0.056976</td>\n",
       "      <td>0.036802</td>\n",
       "      <td>0.01200</td>\n",
       "      <td>0.03800</td>\n",
       "      <td>0.04700</td>\n",
       "      <td>0.0660</td>\n",
       "      <td>0.61100</td>\n",
       "    </tr>\n",
       "    <tr>\n",
       "      <th>free sulfur dioxide</th>\n",
       "      <td>3155.0</td>\n",
       "      <td>30.388590</td>\n",
       "      <td>17.236784</td>\n",
       "      <td>1.00000</td>\n",
       "      <td>17.00000</td>\n",
       "      <td>28.00000</td>\n",
       "      <td>41.0000</td>\n",
       "      <td>131.00000</td>\n",
       "    </tr>\n",
       "    <tr>\n",
       "      <th>total sulfur dioxide</th>\n",
       "      <td>3155.0</td>\n",
       "      <td>115.062282</td>\n",
       "      <td>56.706617</td>\n",
       "      <td>6.00000</td>\n",
       "      <td>75.00000</td>\n",
       "      <td>117.00000</td>\n",
       "      <td>156.0000</td>\n",
       "      <td>344.00000</td>\n",
       "    </tr>\n",
       "    <tr>\n",
       "      <th>density</th>\n",
       "      <td>3155.0</td>\n",
       "      <td>0.994633</td>\n",
       "      <td>0.003005</td>\n",
       "      <td>0.98711</td>\n",
       "      <td>0.99232</td>\n",
       "      <td>0.99481</td>\n",
       "      <td>0.9968</td>\n",
       "      <td>1.03898</td>\n",
       "    </tr>\n",
       "    <tr>\n",
       "      <th>pH</th>\n",
       "      <td>3155.0</td>\n",
       "      <td>3.223201</td>\n",
       "      <td>0.161272</td>\n",
       "      <td>2.72000</td>\n",
       "      <td>3.11000</td>\n",
       "      <td>3.21000</td>\n",
       "      <td>3.3300</td>\n",
       "      <td>4.01000</td>\n",
       "    </tr>\n",
       "    <tr>\n",
       "      <th>sulphates</th>\n",
       "      <td>3155.0</td>\n",
       "      <td>0.534051</td>\n",
       "      <td>0.149149</td>\n",
       "      <td>0.22000</td>\n",
       "      <td>0.43000</td>\n",
       "      <td>0.51000</td>\n",
       "      <td>0.6000</td>\n",
       "      <td>1.95000</td>\n",
       "    </tr>\n",
       "    <tr>\n",
       "      <th>alcohol</th>\n",
       "      <td>3155.0</td>\n",
       "      <td>10.504466</td>\n",
       "      <td>1.154654</td>\n",
       "      <td>8.50000</td>\n",
       "      <td>9.50000</td>\n",
       "      <td>10.30000</td>\n",
       "      <td>11.3000</td>\n",
       "      <td>14.00000</td>\n",
       "    </tr>\n",
       "  </tbody>\n",
       "</table>\n",
       "</div>"
      ],
      "text/plain": [
       "                       count        mean        std      min       25%  \\\n",
       "fixed acidity         3155.0    7.221616   1.325297  3.80000   6.40000   \n",
       "volatile acidity      3155.0    0.338929   0.162476  0.08000   0.23000   \n",
       "citric acid           3155.0    0.321569   0.147970  0.00000   0.25000   \n",
       "residual sugar        3155.0    5.155911   4.639632  0.60000   1.80000   \n",
       "chlorides             3155.0    0.056976   0.036802  0.01200   0.03800   \n",
       "free sulfur dioxide   3155.0   30.388590  17.236784  1.00000  17.00000   \n",
       "total sulfur dioxide  3155.0  115.062282  56.706617  6.00000  75.00000   \n",
       "density               3155.0    0.994633   0.003005  0.98711   0.99232   \n",
       "pH                    3155.0    3.223201   0.161272  2.72000   3.11000   \n",
       "sulphates             3155.0    0.534051   0.149149  0.22000   0.43000   \n",
       "alcohol               3155.0   10.504466   1.154654  8.50000   9.50000   \n",
       "\n",
       "                            50%       75%        max  \n",
       "fixed acidity           7.00000    7.7000   15.60000  \n",
       "volatile acidity        0.29000    0.4000    1.24000  \n",
       "citric acid             0.31000    0.4000    1.66000  \n",
       "residual sugar          2.80000    7.6500   65.80000  \n",
       "chlorides               0.04700    0.0660    0.61100  \n",
       "free sulfur dioxide    28.00000   41.0000  131.00000  \n",
       "total sulfur dioxide  117.00000  156.0000  344.00000  \n",
       "density                 0.99481    0.9968    1.03898  \n",
       "pH                      3.21000    3.3300    4.01000  \n",
       "sulphates               0.51000    0.6000    1.95000  \n",
       "alcohol                10.30000   11.3000   14.00000  "
      ]
     },
     "execution_count": 22,
     "metadata": {},
     "output_type": "execute_result"
    }
   ],
   "source": [
    "train_stats"
   ]
  },
  {
   "cell_type": "markdown",
   "metadata": {
    "colab_type": "text",
    "id": "bGPvt9jir_HC"
   },
   "source": [
    "### Get the labels (TODO)\n",
    "\n",
    "The features and labels are currently in the same dataframe.\n",
    "- You will want to store the label columns `is_red` and `quality` separately from the feature columns.  \n",
    "- The following function, `format_output`, gets these two columns from the dataframe (it's given to you).\n",
    "- `format_output` also formats the data into numpy arrays. \n",
    "- Please use the `format_output` and apply it to the `train`, `val` and `test` sets to get dataframes for the labels."
   ]
  },
  {
   "cell_type": "code",
   "execution_count": 23,
   "metadata": {
    "colab": {},
    "colab_type": "code",
    "id": "Z_fs14XQqZVP"
   },
   "outputs": [],
   "source": [
    "def format_output(data):\n",
    "    is_red = data.pop('is_red')\n",
    "    is_red = np.array(is_red)\n",
    "    quality = data.pop('quality')\n",
    "    quality = np.array(quality)\n",
    "    return (quality, is_red)"
   ]
  },
  {
   "cell_type": "code",
   "execution_count": 24,
   "metadata": {
    "colab": {},
    "colab_type": "code",
    "deletable": false,
    "id": "8L3ZZe1fQicm",
    "nbgrader": {
     "cell_type": "code",
     "checksum": "7a86809e54895a816434c48dc903f55d",
     "grade": false,
     "grade_id": "cell-5c30fa2c2a354b0f",
     "locked": false,
     "schema_version": 3,
     "solution": true,
     "task": false
    }
   },
   "outputs": [],
   "source": [
    "## Please uncomment all lines in this cell and replace those marked with `# YOUR CODE HERE`.\n",
    "## You can select all lines in this code cell with Ctrl+A (Windows/Linux) or Cmd+A (Mac), then press Ctrl+/ (Windows/Linux) or Cmd+/ (Mac) to uncomment.\n",
    "\n",
    "\n",
    "\n",
    "# format the output of the train set\n",
    "train_Y = format_output(train)\n",
    "\n",
    "# format the output of the val set\n",
    "val_Y = format_output(val)\n",
    "    \n",
    "# format the output of the test set\n",
    "test_Y = format_output(test)"
   ]
  },
  {
   "cell_type": "code",
   "execution_count": 25,
   "metadata": {
    "deletable": false,
    "editable": false,
    "nbgrader": {
     "cell_type": "code",
     "checksum": "359cabbafaed14ec9bbc1e57a7b6f32c",
     "grade": true,
     "grade_id": "cell-4977d8befb80f56b",
     "locked": true,
     "points": 1,
     "schema_version": 3,
     "solution": false,
     "task": false
    }
   },
   "outputs": [
    {
     "name": "stdout",
     "output_type": "stream",
     "text": [
      "\u001b[92m All public tests passed\n"
     ]
    }
   ],
   "source": [
    "utils.test_format_output(df, train_Y, val_Y, test_Y)"
   ]
  },
  {
   "cell_type": "markdown",
   "metadata": {},
   "source": [
    "Notice that after you get the labels, the `train`, `val` and `test` dataframes no longer contain the label columns, and contain just the feature columns.\n",
    "- This is because you used `.pop` in the `format_output` function."
   ]
  },
  {
   "cell_type": "code",
   "execution_count": 26,
   "metadata": {},
   "outputs": [
    {
     "data": {
      "text/html": [
       "<div>\n",
       "<style scoped>\n",
       "    .dataframe tbody tr th:only-of-type {\n",
       "        vertical-align: middle;\n",
       "    }\n",
       "\n",
       "    .dataframe tbody tr th {\n",
       "        vertical-align: top;\n",
       "    }\n",
       "\n",
       "    .dataframe thead th {\n",
       "        text-align: right;\n",
       "    }\n",
       "</style>\n",
       "<table border=\"1\" class=\"dataframe\">\n",
       "  <thead>\n",
       "    <tr style=\"text-align: right;\">\n",
       "      <th></th>\n",
       "      <th>fixed acidity</th>\n",
       "      <th>volatile acidity</th>\n",
       "      <th>citric acid</th>\n",
       "      <th>residual sugar</th>\n",
       "      <th>chlorides</th>\n",
       "      <th>free sulfur dioxide</th>\n",
       "      <th>total sulfur dioxide</th>\n",
       "      <th>density</th>\n",
       "      <th>pH</th>\n",
       "      <th>sulphates</th>\n",
       "      <th>alcohol</th>\n",
       "    </tr>\n",
       "  </thead>\n",
       "  <tbody>\n",
       "    <tr>\n",
       "      <th>225</th>\n",
       "      <td>7.5</td>\n",
       "      <td>0.65</td>\n",
       "      <td>0.18</td>\n",
       "      <td>7.0</td>\n",
       "      <td>0.088</td>\n",
       "      <td>27.0</td>\n",
       "      <td>94.0</td>\n",
       "      <td>0.99915</td>\n",
       "      <td>3.38</td>\n",
       "      <td>0.77</td>\n",
       "      <td>9.4</td>\n",
       "    </tr>\n",
       "    <tr>\n",
       "      <th>3557</th>\n",
       "      <td>6.3</td>\n",
       "      <td>0.27</td>\n",
       "      <td>0.29</td>\n",
       "      <td>12.2</td>\n",
       "      <td>0.044</td>\n",
       "      <td>59.0</td>\n",
       "      <td>196.0</td>\n",
       "      <td>0.99782</td>\n",
       "      <td>3.14</td>\n",
       "      <td>0.40</td>\n",
       "      <td>8.8</td>\n",
       "    </tr>\n",
       "    <tr>\n",
       "      <th>3825</th>\n",
       "      <td>8.8</td>\n",
       "      <td>0.27</td>\n",
       "      <td>0.25</td>\n",
       "      <td>5.0</td>\n",
       "      <td>0.024</td>\n",
       "      <td>52.0</td>\n",
       "      <td>99.0</td>\n",
       "      <td>0.99250</td>\n",
       "      <td>2.87</td>\n",
       "      <td>0.49</td>\n",
       "      <td>11.4</td>\n",
       "    </tr>\n",
       "    <tr>\n",
       "      <th>1740</th>\n",
       "      <td>6.4</td>\n",
       "      <td>0.45</td>\n",
       "      <td>0.07</td>\n",
       "      <td>1.1</td>\n",
       "      <td>0.030</td>\n",
       "      <td>10.0</td>\n",
       "      <td>131.0</td>\n",
       "      <td>0.99050</td>\n",
       "      <td>2.97</td>\n",
       "      <td>0.28</td>\n",
       "      <td>10.8</td>\n",
       "    </tr>\n",
       "    <tr>\n",
       "      <th>1221</th>\n",
       "      <td>7.2</td>\n",
       "      <td>0.53</td>\n",
       "      <td>0.13</td>\n",
       "      <td>2.0</td>\n",
       "      <td>0.058</td>\n",
       "      <td>18.0</td>\n",
       "      <td>22.0</td>\n",
       "      <td>0.99573</td>\n",
       "      <td>3.21</td>\n",
       "      <td>0.68</td>\n",
       "      <td>9.9</td>\n",
       "    </tr>\n",
       "  </tbody>\n",
       "</table>\n",
       "</div>"
      ],
      "text/plain": [
       "      fixed acidity  volatile acidity  citric acid  residual sugar  chlorides  \\\n",
       "225             7.5              0.65         0.18             7.0      0.088   \n",
       "3557            6.3              0.27         0.29            12.2      0.044   \n",
       "3825            8.8              0.27         0.25             5.0      0.024   \n",
       "1740            6.4              0.45         0.07             1.1      0.030   \n",
       "1221            7.2              0.53         0.13             2.0      0.058   \n",
       "\n",
       "      free sulfur dioxide  total sulfur dioxide  density    pH  sulphates  \\\n",
       "225                  27.0                  94.0  0.99915  3.38       0.77   \n",
       "3557                 59.0                 196.0  0.99782  3.14       0.40   \n",
       "3825                 52.0                  99.0  0.99250  2.87       0.49   \n",
       "1740                 10.0                 131.0  0.99050  2.97       0.28   \n",
       "1221                 18.0                  22.0  0.99573  3.21       0.68   \n",
       "\n",
       "      alcohol  \n",
       "225       9.4  \n",
       "3557      8.8  \n",
       "3825     11.4  \n",
       "1740     10.8  \n",
       "1221      9.9  "
      ]
     },
     "execution_count": 26,
     "metadata": {},
     "output_type": "execute_result"
    }
   ],
   "source": [
    "train.head()"
   ]
  },
  {
   "cell_type": "markdown",
   "metadata": {
    "colab_type": "text",
    "id": "hEdbrruAsN1D"
   },
   "source": [
    "### Normalize the data (TODO)\n",
    "\n",
    "Next, you can normalize the data, x, using the formula:\n",
    "$$x_{norm} = \\frac{x - \\mu}{\\sigma}$$\n",
    "- The `norm` function is defined for you.\n",
    "- Please apply the `norm` function to normalize the dataframes that contains the feature columns of `train`, `val` and `test` sets."
   ]
  },
  {
   "cell_type": "code",
   "execution_count": 28,
   "metadata": {
    "colab": {},
    "colab_type": "code",
    "id": "WWiZPAHCLjUs"
   },
   "outputs": [],
   "source": [
    "def norm(x):\n",
    "    return (x - train_stats['mean']) / train_stats['std']"
   ]
  },
  {
   "cell_type": "code",
   "execution_count": 29,
   "metadata": {
    "colab": {},
    "colab_type": "code",
    "deletable": false,
    "id": "JEaOi2I2Lk69",
    "nbgrader": {
     "cell_type": "code",
     "checksum": "6bc0cdcb563d192f271067aa3373ff32",
     "grade": false,
     "grade_id": "cell-d8416d975c371095",
     "locked": false,
     "schema_version": 3,
     "solution": true,
     "task": false
    }
   },
   "outputs": [],
   "source": [
    "## Please uncomment all lines in this cell and replace those marked with `# YOUR CODE HERE`.\n",
    "## You can select all lines in this code cell with Ctrl+A (Windows/Linux) or Cmd+A (Mac), then press Ctrl+/ (Windows/Linux) or Cmd+/ (Mac) to uncomment.\n",
    "\n",
    "\n",
    "\n",
    "# normalize the train set\n",
    "norm_train_X = norm(train)\n",
    "    \n",
    "# normalize the val set\n",
    "norm_val_X = norm(val)\n",
    "    \n",
    "# normalize the test set\n",
    "norm_test_X = norm(test)"
   ]
  },
  {
   "cell_type": "code",
   "execution_count": 30,
   "metadata": {
    "deletable": false,
    "editable": false,
    "nbgrader": {
     "cell_type": "code",
     "checksum": "4f567db45bf40191601780379cc100b8",
     "grade": true,
     "grade_id": "cell-97fad979d157529b",
     "locked": true,
     "points": 1,
     "schema_version": 3,
     "solution": false,
     "task": false
    }
   },
   "outputs": [
    {
     "name": "stdout",
     "output_type": "stream",
     "text": [
      "\u001b[92m All public tests passed\n"
     ]
    }
   ],
   "source": [
    "utils.test_norm(norm_train_X, norm_val_X, norm_test_X, train, val, test)\n"
   ]
  },
  {
   "cell_type": "markdown",
   "metadata": {
    "colab_type": "text",
    "id": "hzykDwQhsaPO"
   },
   "source": [
    "## Define the Model (TODO)\n",
    "\n",
    "Define the model using the functional API. The base model will be 2 `Dense` layers of 128 neurons each, and have the `'relu'` activation.\n",
    "- Check out the documentation for [tf.keras.layers.Dense](https://www.tensorflow.org/api_docs/python/tf/keras/layers/Dense)"
   ]
  },
  {
   "cell_type": "code",
   "execution_count": 1,
   "metadata": {
    "colab": {},
    "colab_type": "code",
    "deletable": false,
    "id": "Rhcns3oTFkM6",
    "nbgrader": {
     "cell_type": "code",
     "checksum": "74b031247e569526552bf13a034a1c07",
     "grade": false,
     "grade_id": "cell-73fceedad1fe351c",
     "locked": false,
     "schema_version": 3,
     "solution": true,
     "task": false
    }
   },
   "outputs": [],
   "source": [
    "## Please uncomment all lines in this cell and replace those marked with `# YOUR CODE HERE`.\n",
    "## You can select all lines in this code cell with Ctrl+A (Windows/Linux) or Cmd+A (Mac), then press Ctrl+/ (Windows/Linux) or Cmd+/ (Mac) to uncomment.\n",
    "\n",
    "\n",
    "\n",
    "def base_model(inputs):\n",
    "    \n",
    "    # connect a Dense layer with 128 neurons and a relu activation\n",
    "    x = Dense(units=128, activation='relu')(inputs)\n",
    "    \n",
    "    # connect another Dense layer with 128 neurons and a relu activation\n",
    "    x = Dense(units=128, activation='relu')(x)\n",
    "    return x\n",
    "  "
   ]
  },
  {
   "cell_type": "code",
   "execution_count": 45,
   "metadata": {
    "deletable": false,
    "editable": false,
    "nbgrader": {
     "cell_type": "code",
     "checksum": "9255924b3def80f679616e4c851a43e1",
     "grade": true,
     "grade_id": "cell-54f742a133353d75",
     "locked": true,
     "points": 1,
     "schema_version": 3,
     "solution": false,
     "task": false
    }
   },
   "outputs": [
    {
     "name": "stdout",
     "output_type": "stream",
     "text": [
      "return_type_check: Return type is incorrect. Please check your code.\n",
      "Expected: <class 'tensorflow.python.framework.ops.Tensor'>\n",
      "Result: <class 'keras.engine.keras_tensor.KerasTensor'>\n",
      "Please open utils.py if you want to see the unit test here.\n",
      "\n",
      "\u001b[92m 5  Tests passed\n",
      "\u001b[91m 1  Tests failed\n"
     ]
    },
    {
     "ename": "Exception",
     "evalue": "Please check the error messages above.",
     "output_type": "error",
     "traceback": [
      "\u001b[0;31m---------------------------------------------------------------------------\u001b[0m",
      "\u001b[0;31mException\u001b[0m                                 Traceback (most recent call last)",
      "Cell \u001b[0;32mIn [45], line 1\u001b[0m\n\u001b[0;32m----> 1\u001b[0m utils\u001b[39m.\u001b[39;49mtest_base_model(base_model)\n",
      "File \u001b[0;32m~/Desktop/coursera/AdvancedTF/Course1/week1/Files/home/jovyan/work/release/W1_Assignment/utils.py:259\u001b[0m, in \u001b[0;36mtest_base_model\u001b[0;34m(base_model)\u001b[0m\n\u001b[1;32m    218\u001b[0m test_model \u001b[39m=\u001b[39m Model(inputs\u001b[39m=\u001b[39mtest_inputs, outputs\u001b[39m=\u001b[39mtest_output)\n\u001b[1;32m    220\u001b[0m test_cases \u001b[39m=\u001b[39m [\n\u001b[1;32m    221\u001b[0m     {\n\u001b[1;32m    222\u001b[0m         \u001b[39m\"\u001b[39m\u001b[39mname\u001b[39m\u001b[39m\"\u001b[39m: \u001b[39m\"\u001b[39m\u001b[39mreturn_type_check\u001b[39m\u001b[39m\"\u001b[39m,\n\u001b[0;32m   (...)\u001b[0m\n\u001b[1;32m    256\u001b[0m     },\n\u001b[1;32m    257\u001b[0m ]\n\u001b[0;32m--> 259\u001b[0m test_loop(test_cases)\n",
      "File \u001b[0;32m~/Desktop/coursera/AdvancedTF/Course1/week1/Files/home/jovyan/work/release/W1_Assignment/utils.py:27\u001b[0m, in \u001b[0;36mtest_loop\u001b[0;34m(test_cases)\u001b[0m\n\u001b[1;32m     25\u001b[0m \u001b[39mprint\u001b[39m(\u001b[39m'\u001b[39m\u001b[39m\\033\u001b[39;00m\u001b[39m[92m\u001b[39m\u001b[39m'\u001b[39m, success,\u001b[39m\"\u001b[39m\u001b[39m Tests passed\u001b[39m\u001b[39m\"\u001b[39m)\n\u001b[1;32m     26\u001b[0m \u001b[39mprint\u001b[39m(\u001b[39m'\u001b[39m\u001b[39m\\033\u001b[39;00m\u001b[39m[91m\u001b[39m\u001b[39m'\u001b[39m, fails, \u001b[39m\"\u001b[39m\u001b[39m Tests failed\u001b[39m\u001b[39m\"\u001b[39m)\n\u001b[0;32m---> 27\u001b[0m \u001b[39mraise\u001b[39;00m \u001b[39mException\u001b[39;00m(\u001b[39m\"\u001b[39m\u001b[39mPlease check the error messages above.\u001b[39m\u001b[39m\"\u001b[39m)\n",
      "\u001b[0;31mException\u001b[0m: Please check the error messages above."
     ]
    }
   ],
   "source": [
    "utils.test_base_model(base_model)"
   ]
  },
  {
   "cell_type": "markdown",
   "metadata": {
    "colab_type": "text",
    "id": "xem_fcVws6Kz"
   },
   "source": [
    "# Define output layers of the model (TODO)\n",
    "\n",
    "You will add output layers to the base model. \n",
    "- The model will need two outputs.\n",
    "\n",
    "One output layer will predict wine quality, which is a numeric value.\n",
    "- Define a `Dense` layer with 1 neuron.\n",
    "- Since this is a regression output, the activation can be left as its default value `None`.\n",
    "\n",
    "The other output layer will predict the wine type, which is either red `1` or not red `0` (white).\n",
    "- Define a `Dense` layer with 1 neuron.\n",
    "- Since there are two possible categories, you can use a sigmoid activation for binary classification.\n",
    "\n",
    "Define the `Model`\n",
    "- Define the `Model` object, and set the following parameters:\n",
    "  - `inputs`: pass in the inputs to the model as a list.\n",
    "  - `outputs`: pass in a list of the outputs that you just defined: wine quality, then wine type.\n",
    "  - **Note**: please list the wine quality before wine type in the outputs, as this will affect the calculated loss if you choose the other order."
   ]
  },
  {
   "cell_type": "code",
   "execution_count": 46,
   "metadata": {
    "colab": {},
    "colab_type": "code",
    "deletable": false,
    "id": "n5UGF8PMVLPt",
    "nbgrader": {
     "cell_type": "code",
     "checksum": "76d35b90d20cdcbb22986cd8211057de",
     "grade": false,
     "grade_id": "cell-19e285f482f021fb",
     "locked": false,
     "schema_version": 3,
     "solution": true,
     "task": false
    }
   },
   "outputs": [],
   "source": [
    "## Please uncomment all lines in this cell and replace those marked with `# YOUR CODE HERE`.\n",
    "## You can select all lines in this code cell with Ctrl+A (Windows/Linux) or Cmd+A (Mac), then press Ctrl+/ (Windows/Linux) or Cmd+/ (Mac) to uncomment.\n",
    "\n",
    "\n",
    "\n",
    "def final_model(inputs):\n",
    "    \n",
    "    # get the base model\n",
    "    x = base_model(inputs)\n",
    "\n",
    "    # connect the output Dense layer for regression\n",
    "    wine_quality = Dense(units='1', name='wine_quality')(x)\n",
    "\n",
    "    # connect the output Dense layer for classification. this will use a sigmoid activation.\n",
    "    wine_type = Dense(units='1', activation='sigmoid', name='wine_type')(x)\n",
    "\n",
    "    # define the model using the input and output layers\n",
    "    model = Model(inputs=inputs, outputs=[wine_quality, wine_type])\n",
    "\n",
    "    return model"
   ]
  },
  {
   "cell_type": "code",
   "execution_count": 47,
   "metadata": {
    "deletable": false,
    "editable": false,
    "nbgrader": {
     "cell_type": "code",
     "checksum": "89cbf89d8ab5e2e59ecf7f63f517520a",
     "grade": true,
     "grade_id": "cell-40d050f855c817d1",
     "locked": true,
     "points": 1,
     "schema_version": 3,
     "solution": false,
     "task": false
    }
   },
   "outputs": [
    {
     "name": "stdout",
     "output_type": "stream",
     "text": [
      "return_type_check: Return type is incorrect. Please check your code.\n",
      "Expected: <class 'keras.engine.training.Model'>\n",
      "Result: <class 'keras.engine.functional.Functional'>\n",
      "Please open utils.py if you want to see the unit test here.\n",
      "\n",
      "\u001b[92m 1  Tests passed\n",
      "\u001b[91m 1  Tests failed\n"
     ]
    },
    {
     "ename": "Exception",
     "evalue": "Please check the error messages above.",
     "output_type": "error",
     "traceback": [
      "\u001b[0;31m---------------------------------------------------------------------------\u001b[0m",
      "\u001b[0;31mException\u001b[0m                                 Traceback (most recent call last)",
      "Cell \u001b[0;32mIn [47], line 1\u001b[0m\n\u001b[0;32m----> 1\u001b[0m utils\u001b[39m.\u001b[39;49mtest_final_model(final_model)\n",
      "File \u001b[0;32m~/Desktop/coursera/AdvancedTF/Course1/week1/Files/home/jovyan/work/release/W1_Assignment/utils.py:281\u001b[0m, in \u001b[0;36mtest_final_model\u001b[0;34m(final_model)\u001b[0m\n\u001b[1;32m    264\u001b[0m test_output \u001b[39m=\u001b[39m final_model(test_inputs)\n\u001b[1;32m    266\u001b[0m test_cases \u001b[39m=\u001b[39m [\n\u001b[1;32m    267\u001b[0m     {\n\u001b[1;32m    268\u001b[0m         \u001b[39m\"\u001b[39m\u001b[39mname\u001b[39m\u001b[39m\"\u001b[39m: \u001b[39m\"\u001b[39m\u001b[39mreturn_type_check\u001b[39m\u001b[39m\"\u001b[39m,\n\u001b[0;32m   (...)\u001b[0m\n\u001b[1;32m    278\u001b[0m     },\n\u001b[1;32m    279\u001b[0m ]\n\u001b[0;32m--> 281\u001b[0m test_loop(test_cases)\n",
      "File \u001b[0;32m~/Desktop/coursera/AdvancedTF/Course1/week1/Files/home/jovyan/work/release/W1_Assignment/utils.py:27\u001b[0m, in \u001b[0;36mtest_loop\u001b[0;34m(test_cases)\u001b[0m\n\u001b[1;32m     25\u001b[0m \u001b[39mprint\u001b[39m(\u001b[39m'\u001b[39m\u001b[39m\\033\u001b[39;00m\u001b[39m[92m\u001b[39m\u001b[39m'\u001b[39m, success,\u001b[39m\"\u001b[39m\u001b[39m Tests passed\u001b[39m\u001b[39m\"\u001b[39m)\n\u001b[1;32m     26\u001b[0m \u001b[39mprint\u001b[39m(\u001b[39m'\u001b[39m\u001b[39m\\033\u001b[39;00m\u001b[39m[91m\u001b[39m\u001b[39m'\u001b[39m, fails, \u001b[39m\"\u001b[39m\u001b[39m Tests failed\u001b[39m\u001b[39m\"\u001b[39m)\n\u001b[0;32m---> 27\u001b[0m \u001b[39mraise\u001b[39;00m \u001b[39mException\u001b[39;00m(\u001b[39m\"\u001b[39m\u001b[39mPlease check the error messages above.\u001b[39m\u001b[39m\"\u001b[39m)\n",
      "\u001b[0;31mException\u001b[0m: Please check the error messages above."
     ]
    }
   ],
   "source": [
    "utils.test_final_model(final_model)"
   ]
  },
  {
   "cell_type": "markdown",
   "metadata": {
    "colab_type": "text",
    "id": "5R0BMTsltZyu"
   },
   "source": [
    "## Compiling the Model\n",
    "\n",
    "Next, compile the model. When setting the loss parameter of `model.compile`, you're setting the loss for each of the two outputs (wine quality and wine type).\n",
    "\n",
    "To set more than one loss, use a dictionary of key-value pairs.\n",
    "- You can look at the docs for the losses [here](https://www.tensorflow.org/api_docs/python/tf/keras/losses#functions).\n",
    "    - **Note**: For the desired spelling, please look at the \"Functions\" section of the documentation and not the \"classes\" section on that same page.\n",
    "- wine_type: Since you will be performing binary classification on wine type, you should use the binary crossentropy loss function for it.  Please pass this in as a string.  \n",
    "  - **Hint**, this should be all lowercase.  In the documentation, you'll see this under the \"Functions\" section, not the \"Classes\" section.\n",
    "- wine_quality: since this is a regression output, use the mean squared error.  Please pass it in as a string, all lowercase.\n",
    "  - **Hint**: You may notice that there are two aliases for mean squared error.  Please use the shorter name.\n",
    "\n",
    "\n",
    "You will also set the metric for each of the two outputs.  Again, to set metrics for two or more outputs, use a dictionary with key value pairs.\n",
    "- The metrics documentation is linked [here](https://www.tensorflow.org/api_docs/python/tf/keras/metrics).\n",
    "- For the wine type, please set it to accuracy as a string, all lowercase.\n",
    "- For wine quality, please use the root mean squared error.  Instead of a string, you'll set it to an instance of the class [RootMeanSquaredError](https://www.tensorflow.org/api_docs/python/tf/keras/metrics/RootMeanSquaredError), which belongs to the tf.keras.metrics module.\n",
    "\n",
    "**Note**: If you see the error message \n",
    ">Exception: wine quality loss function is incorrect.\n",
    "\n",
    "- Please also check your other losses and metrics, as the error may be caused by the other three key-value pairs and not the wine quality loss."
   ]
  },
  {
   "cell_type": "code",
   "execution_count": 52,
   "metadata": {
    "colab": {},
    "colab_type": "code",
    "deletable": false,
    "id": "LK11duUbUjmh",
    "nbgrader": {
     "cell_type": "code",
     "checksum": "22f45067ca69eb2ccadb43874dbcc27b",
     "grade": false,
     "grade_id": "cell-81afdc4dcca51d5e",
     "locked": false,
     "schema_version": 3,
     "solution": true,
     "task": false
    }
   },
   "outputs": [],
   "source": [
    "## Please uncomment all lines in this cell and replace those marked with `# YOUR CODE HERE`.\n",
    "## You can select all lines in this code cell with Ctrl+A (Windows/Linux) or Cmd+A (Mac), then press Ctrl+/ (Windows/Linux) or Cmd+/ (Mac) to uncomment.\n",
    "\n",
    "\n",
    "\n",
    "inputs = tf.keras.layers.Input(shape=(11,))\n",
    "rms = tf.keras.optimizers.RMSprop(lr=0.0001)\n",
    "model = final_model(inputs)\n",
    "\n",
    "model.compile(optimizer=rms, \n",
    "              loss = {'wine_type' : 'binary_crossentropy',\n",
    "                      'wine_quality' : 'mse'\n",
    "                     },\n",
    "              metrics = {'wine_type' : 'accuracy',\n",
    "                         'wine_quality': tf.keras.metrics.RootMeanSquaredError()\n",
    "                       }\n",
    "             )\n"
   ]
  },
  {
   "cell_type": "code",
   "execution_count": 49,
   "metadata": {
    "deletable": false,
    "editable": false,
    "nbgrader": {
     "cell_type": "code",
     "checksum": "88e02238ea5e456ff65e835cc8158054",
     "grade": true,
     "grade_id": "cell-2eeeba02391c4632",
     "locked": true,
     "points": 1,
     "schema_version": 3,
     "solution": false,
     "task": false
    }
   },
   "outputs": [
    {
     "ename": "IndexError",
     "evalue": "list index out of range",
     "output_type": "error",
     "traceback": [
      "\u001b[0;31m---------------------------------------------------------------------------\u001b[0m",
      "\u001b[0;31mIndexError\u001b[0m                                Traceback (most recent call last)",
      "Cell \u001b[0;32mIn [49], line 1\u001b[0m\n\u001b[0;32m----> 1\u001b[0m utils\u001b[39m.\u001b[39;49mtest_model_compile(model)\n",
      "File \u001b[0;32m~/Desktop/coursera/AdvancedTF/Course1/week1/Files/home/jovyan/work/release/W1_Assignment/utils.py:290\u001b[0m, in \u001b[0;36mtest_model_compile\u001b[0;34m(model)\u001b[0m\n\u001b[1;32m    283\u001b[0m \u001b[39mdef\u001b[39;00m \u001b[39mtest_model_compile\u001b[39m(model):\n\u001b[1;32m    285\u001b[0m     \u001b[39mfrom\u001b[39;00m \u001b[39mtensorflow\u001b[39;00m\u001b[39m.\u001b[39;00m\u001b[39mpython\u001b[39;00m\u001b[39m.\u001b[39;00m\u001b[39mkeras\u001b[39;00m\u001b[39m.\u001b[39;00m\u001b[39mmetrics\u001b[39;00m \u001b[39mimport\u001b[39;00m MeanMetricWrapper\n\u001b[1;32m    287\u001b[0m     test_cases \u001b[39m=\u001b[39m [\n\u001b[1;32m    288\u001b[0m         {\n\u001b[1;32m    289\u001b[0m             \u001b[39m\"\u001b[39m\u001b[39mname\u001b[39m\u001b[39m\"\u001b[39m: \u001b[39m\"\u001b[39m\u001b[39mmetrics_0_check\u001b[39m\u001b[39m\"\u001b[39m,\n\u001b[0;32m--> 290\u001b[0m             \u001b[39m\"\u001b[39m\u001b[39mresult\u001b[39m\u001b[39m\"\u001b[39m: \u001b[39mtype\u001b[39m(model\u001b[39m.\u001b[39;49mmetrics[\u001b[39m0\u001b[39;49m]),\n\u001b[1;32m    291\u001b[0m             \u001b[39m\"\u001b[39m\u001b[39mexpected\u001b[39m\u001b[39m\"\u001b[39m: tf\u001b[39m.\u001b[39mkeras\u001b[39m.\u001b[39mmetrics\u001b[39m.\u001b[39mRootMeanSquaredError,\n\u001b[1;32m    292\u001b[0m             \u001b[39m\"\u001b[39m\u001b[39merror_message\u001b[39m\u001b[39m\"\u001b[39m: \u001b[39m'\u001b[39m\u001b[39mwine quality metrics is incorrect. Please check your code.\u001b[39m\u001b[39m'\u001b[39m\n\u001b[1;32m    293\u001b[0m         },\n\u001b[1;32m    294\u001b[0m         {\n\u001b[1;32m    295\u001b[0m             \u001b[39m\"\u001b[39m\u001b[39mname\u001b[39m\u001b[39m\"\u001b[39m: \u001b[39m\"\u001b[39m\u001b[39mmetrics_1_check\u001b[39m\u001b[39m\"\u001b[39m,\n\u001b[1;32m    296\u001b[0m             \u001b[39m\"\u001b[39m\u001b[39mresult\u001b[39m\u001b[39m\"\u001b[39m: (model\u001b[39m.\u001b[39mmetrics[\u001b[39m1\u001b[39m]\u001b[39m.\u001b[39mname \u001b[39m==\u001b[39m \u001b[39m'\u001b[39m\u001b[39mwine_type_accuracy\u001b[39m\u001b[39m'\u001b[39m) \u001b[39mor\u001b[39;00m \n\u001b[1;32m    297\u001b[0m                       (model\u001b[39m.\u001b[39mmetrics[\u001b[39m1\u001b[39m]\u001b[39m.\u001b[39mname \u001b[39m==\u001b[39m \u001b[39m'\u001b[39m\u001b[39mwine_type_binary_accuracy\u001b[39m\u001b[39m'\u001b[39m),\n\u001b[1;32m    298\u001b[0m             \u001b[39m\"\u001b[39m\u001b[39mexpected\u001b[39m\u001b[39m\"\u001b[39m: \u001b[39mTrue\u001b[39;00m,\n\u001b[1;32m    299\u001b[0m             \u001b[39m\"\u001b[39m\u001b[39merror_message\u001b[39m\u001b[39m\"\u001b[39m: \u001b[39mf\u001b[39m\u001b[39m'\u001b[39m\u001b[39mwine type metrics: \u001b[39m\u001b[39m{\u001b[39;00mmodel\u001b[39m.\u001b[39mmetrics[\u001b[39m1\u001b[39m]\u001b[39m.\u001b[39mname\u001b[39m}\u001b[39;00m\u001b[39m is incorrect. Please check your code.\u001b[39m\u001b[39m'\u001b[39m\n\u001b[1;32m    300\u001b[0m         },\n\u001b[1;32m    301\u001b[0m         {\n\u001b[1;32m    302\u001b[0m             \u001b[39m\"\u001b[39m\u001b[39mname\u001b[39m\u001b[39m\"\u001b[39m: \u001b[39m\"\u001b[39m\u001b[39mwine_type_loss_check\u001b[39m\u001b[39m\"\u001b[39m,\n\u001b[1;32m    303\u001b[0m             \u001b[39m\"\u001b[39m\u001b[39mresult\u001b[39m\u001b[39m\"\u001b[39m: (model\u001b[39m.\u001b[39mloss[\u001b[39m'\u001b[39m\u001b[39mwine_type\u001b[39m\u001b[39m'\u001b[39m] \u001b[39m==\u001b[39m \u001b[39m'\u001b[39m\u001b[39mbinary_crossentropy\u001b[39m\u001b[39m'\u001b[39m) \u001b[39mor\u001b[39;00m \n\u001b[1;32m    304\u001b[0m                       (model\u001b[39m.\u001b[39mloss[\u001b[39m'\u001b[39m\u001b[39mwine_type\u001b[39m\u001b[39m'\u001b[39m]\u001b[39m.\u001b[39mname \u001b[39m==\u001b[39m \u001b[39m'\u001b[39m\u001b[39mbinary_crossentropy\u001b[39m\u001b[39m'\u001b[39m) \u001b[39mor\u001b[39;00m \n\u001b[1;32m    305\u001b[0m                       (\u001b[39mstr\u001b[39m(model\u001b[39m.\u001b[39mloss[\u001b[39m'\u001b[39m\u001b[39mwine_type\u001b[39m\u001b[39m'\u001b[39m])\u001b[39m.\u001b[39msplit()[\u001b[39m1\u001b[39m] \u001b[39m==\u001b[39m \u001b[39m'\u001b[39m\u001b[39mbinary_crossentropy\u001b[39m\u001b[39m'\u001b[39m),\n\u001b[1;32m    306\u001b[0m             \u001b[39m\"\u001b[39m\u001b[39mexpected\u001b[39m\u001b[39m\"\u001b[39m: \u001b[39mTrue\u001b[39;00m,\n\u001b[1;32m    307\u001b[0m             \u001b[39m\"\u001b[39m\u001b[39merror_message\u001b[39m\u001b[39m\"\u001b[39m: \u001b[39mf\u001b[39m\u001b[39m'\u001b[39m\u001b[39mwine type loss: \u001b[39m\u001b[39m{\u001b[39;00mmodel\u001b[39m.\u001b[39mloss[\u001b[39m\"\u001b[39m\u001b[39mwine_type\u001b[39m\u001b[39m\"\u001b[39m]\u001b[39m}\u001b[39;00m\u001b[39m is incorrect. Please check your code.\u001b[39m\u001b[39m'\u001b[39m\n\u001b[1;32m    308\u001b[0m         },\n\u001b[1;32m    309\u001b[0m         {\n\u001b[1;32m    310\u001b[0m             \u001b[39m\"\u001b[39m\u001b[39mname\u001b[39m\u001b[39m\"\u001b[39m: \u001b[39m\"\u001b[39m\u001b[39mwine_quality_loss_check\u001b[39m\u001b[39m\"\u001b[39m,\n\u001b[1;32m    311\u001b[0m             \u001b[39m\"\u001b[39m\u001b[39mresult\u001b[39m\u001b[39m\"\u001b[39m: (model\u001b[39m.\u001b[39mloss[\u001b[39m'\u001b[39m\u001b[39mwine_quality\u001b[39m\u001b[39m'\u001b[39m] \u001b[39min\u001b[39;00m [\u001b[39m'\u001b[39m\u001b[39mmse\u001b[39m\u001b[39m'\u001b[39m, \u001b[39m'\u001b[39m\u001b[39mmean_squared_error\u001b[39m\u001b[39m'\u001b[39m]) \u001b[39mor\u001b[39;00m \n\u001b[1;32m    312\u001b[0m                       (\u001b[39mstr\u001b[39m(model\u001b[39m.\u001b[39mloss[\u001b[39m'\u001b[39m\u001b[39mwine_quality\u001b[39m\u001b[39m'\u001b[39m])\u001b[39m.\u001b[39msplit()[\u001b[39m1\u001b[39m] \u001b[39m==\u001b[39m \u001b[39m'\u001b[39m\u001b[39mmean_squared_error\u001b[39m\u001b[39m'\u001b[39m) \u001b[39mor\u001b[39;00m \n\u001b[1;32m    313\u001b[0m                       (model\u001b[39m.\u001b[39mloss[\u001b[39m'\u001b[39m\u001b[39mwine_quality\u001b[39m\u001b[39m'\u001b[39m]\u001b[39m.\u001b[39mname \u001b[39m==\u001b[39m \u001b[39m'\u001b[39m\u001b[39mmean_squared_error\u001b[39m\u001b[39m'\u001b[39m),\n\u001b[1;32m    314\u001b[0m             \u001b[39m\"\u001b[39m\u001b[39mexpected\u001b[39m\u001b[39m\"\u001b[39m: \u001b[39mTrue\u001b[39;00m,\n\u001b[1;32m    315\u001b[0m             \u001b[39m\"\u001b[39m\u001b[39merror_message\u001b[39m\u001b[39m\"\u001b[39m: \u001b[39mf\u001b[39m\u001b[39m'\u001b[39m\u001b[39mwine quality loss: \u001b[39m\u001b[39m{\u001b[39;00mmodel\u001b[39m.\u001b[39mloss[\u001b[39m\"\u001b[39m\u001b[39mwine_type\u001b[39m\u001b[39m\"\u001b[39m]\u001b[39m}\u001b[39;00m\u001b[39m is incorrect. Please check your code.\u001b[39m\u001b[39m'\u001b[39m\n\u001b[1;32m    316\u001b[0m         },\n\u001b[1;32m    317\u001b[0m     ]\n\u001b[1;32m    319\u001b[0m     test_loop(test_cases)\n",
      "\u001b[0;31mIndexError\u001b[0m: list index out of range"
     ]
    }
   ],
   "source": [
    "utils.test_model_compile(model)"
   ]
  },
  {
   "cell_type": "markdown",
   "metadata": {
    "colab_type": "text",
    "id": "90MpAMpWuKm-"
   },
   "source": [
    "## Training the Model (TODO)\n",
    "\n",
    "Fit the model to the training inputs and outputs. \n",
    "- Check the documentation for [model.fit](https://www.tensorflow.org/api_docs/python/tf/keras/Model#fit).\n",
    "- Remember to use the normalized training set as inputs. \n",
    "- For the validation data, please use the normalized validation set.\n",
    "\n",
    "**Important: Please do not increase the number of epochs below. This is to avoid the grader from timing out. You can increase it once you have submitted your work.**"
   ]
  },
  {
   "cell_type": "code",
   "execution_count": 53,
   "metadata": {
    "colab": {},
    "colab_type": "code",
    "deletable": false,
    "id": "_eiZkle4XwiY",
    "nbgrader": {
     "cell_type": "code",
     "checksum": "d1a4565296017a0611c6f2de675f96cf",
     "grade": false,
     "grade_id": "cell-0bb56262896f6680",
     "locked": false,
     "schema_version": 3,
     "solution": true,
     "task": false
    }
   },
   "outputs": [
    {
     "name": "stderr",
     "output_type": "stream",
     "text": [
      "2022-12-02 16:17:21.877201: W tensorflow/core/platform/profile_utils/cpu_utils.cc:128] Failed to get CPU frequency: 0 Hz\n"
     ]
    },
    {
     "name": "stdout",
     "output_type": "stream",
     "text": [
      "Epoch 1/40\n",
      "99/99 [==============================] - 0s 2ms/step - loss: 24.3470 - wine_quality_loss: 23.5888 - wine_type_loss: 0.7583 - wine_quality_root_mean_squared_error: 4.8568 - wine_type_accuracy: 0.2472 - val_loss: 16.1428 - val_wine_quality_loss: 15.3940 - val_wine_type_loss: 0.7488 - val_wine_quality_root_mean_squared_error: 3.9235 - val_wine_type_accuracy: 0.3004\n",
      "Epoch 2/40\n",
      "99/99 [==============================] - 0s 753us/step - loss: 10.6061 - wine_quality_loss: 9.8869 - wine_type_loss: 0.7192 - wine_quality_root_mean_squared_error: 3.1444 - wine_type_accuracy: 0.4130 - val_loss: 6.1183 - val_wine_quality_loss: 5.4357 - val_wine_type_loss: 0.6826 - val_wine_quality_root_mean_squared_error: 2.3315 - val_wine_type_accuracy: 0.4956\n",
      "Epoch 3/40\n",
      "99/99 [==============================] - 0s 754us/step - loss: 4.4970 - wine_quality_loss: 3.8800 - wine_type_loss: 0.6169 - wine_quality_root_mean_squared_error: 1.9698 - wine_type_accuracy: 0.6548 - val_loss: 3.2310 - val_wine_quality_loss: 2.6825 - val_wine_type_loss: 0.5484 - val_wine_quality_root_mean_squared_error: 1.6378 - val_wine_type_accuracy: 0.7554\n",
      "Epoch 4/40\n",
      "99/99 [==============================] - 0s 741us/step - loss: 2.9458 - wine_quality_loss: 2.4727 - wine_type_loss: 0.4731 - wine_quality_root_mean_squared_error: 1.5725 - wine_type_accuracy: 0.8231 - val_loss: 2.5732 - val_wine_quality_loss: 2.1572 - val_wine_type_loss: 0.4160 - val_wine_quality_root_mean_squared_error: 1.4687 - val_wine_type_accuracy: 0.8720\n",
      "Epoch 5/40\n",
      "99/99 [==============================] - 0s 726us/step - loss: 2.3854 - wine_quality_loss: 2.0274 - wine_type_loss: 0.3580 - wine_quality_root_mean_squared_error: 1.4239 - wine_type_accuracy: 0.9192 - val_loss: 2.1615 - val_wine_quality_loss: 1.8472 - val_wine_type_loss: 0.3143 - val_wine_quality_root_mean_squared_error: 1.3591 - val_wine_type_accuracy: 0.9392\n",
      "Epoch 6/40\n",
      "99/99 [==============================] - 0s 735us/step - loss: 2.0310 - wine_quality_loss: 1.7613 - wine_type_loss: 0.2697 - wine_quality_root_mean_squared_error: 1.3271 - wine_type_accuracy: 0.9626 - val_loss: 1.8874 - val_wine_quality_loss: 1.6485 - val_wine_type_loss: 0.2390 - val_wine_quality_root_mean_squared_error: 1.2839 - val_wine_type_accuracy: 0.9696\n",
      "Epoch 7/40\n",
      "99/99 [==============================] - 0s 732us/step - loss: 1.7839 - wine_quality_loss: 1.5793 - wine_type_loss: 0.2047 - wine_quality_root_mean_squared_error: 1.2567 - wine_type_accuracy: 0.9794 - val_loss: 1.6853 - val_wine_quality_loss: 1.5026 - val_wine_type_loss: 0.1827 - val_wine_quality_root_mean_squared_error: 1.2258 - val_wine_type_accuracy: 0.9861\n",
      "Epoch 8/40\n",
      "99/99 [==============================] - 0s 738us/step - loss: 1.6156 - wine_quality_loss: 1.4555 - wine_type_loss: 0.1601 - wine_quality_root_mean_squared_error: 1.2065 - wine_type_accuracy: 0.9835 - val_loss: 1.5302 - val_wine_quality_loss: 1.3860 - val_wine_type_loss: 0.1442 - val_wine_quality_root_mean_squared_error: 1.1773 - val_wine_type_accuracy: 0.9873\n",
      "Epoch 9/40\n",
      "99/99 [==============================] - 0s 738us/step - loss: 1.4722 - wine_quality_loss: 1.3447 - wine_type_loss: 0.1275 - wine_quality_root_mean_squared_error: 1.1596 - wine_type_accuracy: 0.9870 - val_loss: 1.4039 - val_wine_quality_loss: 1.2872 - val_wine_type_loss: 0.1167 - val_wine_quality_root_mean_squared_error: 1.1345 - val_wine_type_accuracy: 0.9899\n",
      "Epoch 10/40\n",
      "99/99 [==============================] - 0s 738us/step - loss: 1.3596 - wine_quality_loss: 1.2540 - wine_type_loss: 0.1056 - wine_quality_root_mean_squared_error: 1.1198 - wine_type_accuracy: 0.9873 - val_loss: 1.3002 - val_wine_quality_loss: 1.2030 - val_wine_type_loss: 0.0972 - val_wine_quality_root_mean_squared_error: 1.0968 - val_wine_type_accuracy: 0.9924\n",
      "Epoch 11/40\n",
      "99/99 [==============================] - 0s 734us/step - loss: 1.2653 - wine_quality_loss: 1.1755 - wine_type_loss: 0.0898 - wine_quality_root_mean_squared_error: 1.0842 - wine_type_accuracy: 0.9886 - val_loss: 1.2167 - val_wine_quality_loss: 1.1338 - val_wine_type_loss: 0.0829 - val_wine_quality_root_mean_squared_error: 1.0648 - val_wine_type_accuracy: 0.9924\n",
      "Epoch 12/40\n",
      "99/99 [==============================] - 0s 725us/step - loss: 1.1802 - wine_quality_loss: 1.1020 - wine_type_loss: 0.0783 - wine_quality_root_mean_squared_error: 1.0497 - wine_type_accuracy: 0.9895 - val_loss: 1.1251 - val_wine_quality_loss: 1.0523 - val_wine_type_loss: 0.0729 - val_wine_quality_root_mean_squared_error: 1.0258 - val_wine_type_accuracy: 0.9924\n",
      "Epoch 13/40\n",
      "99/99 [==============================] - 0s 730us/step - loss: 1.1114 - wine_quality_loss: 1.0417 - wine_type_loss: 0.0697 - wine_quality_root_mean_squared_error: 1.0206 - wine_type_accuracy: 0.9895 - val_loss: 1.0646 - val_wine_quality_loss: 0.9996 - val_wine_type_loss: 0.0650 - val_wine_quality_root_mean_squared_error: 0.9998 - val_wine_type_accuracy: 0.9924\n",
      "Epoch 14/40\n",
      "99/99 [==============================] - 0s 724us/step - loss: 1.0474 - wine_quality_loss: 0.9844 - wine_type_loss: 0.0630 - wine_quality_root_mean_squared_error: 0.9922 - wine_type_accuracy: 0.9905 - val_loss: 1.0081 - val_wine_quality_loss: 0.9494 - val_wine_type_loss: 0.0588 - val_wine_quality_root_mean_squared_error: 0.9744 - val_wine_type_accuracy: 0.9924\n",
      "Epoch 15/40\n",
      "99/99 [==============================] - 0s 756us/step - loss: 0.9844 - wine_quality_loss: 0.9265 - wine_type_loss: 0.0578 - wine_quality_root_mean_squared_error: 0.9626 - wine_type_accuracy: 0.9908 - val_loss: 0.9388 - val_wine_quality_loss: 0.8846 - val_wine_type_loss: 0.0543 - val_wine_quality_root_mean_squared_error: 0.9405 - val_wine_type_accuracy: 0.9924\n",
      "Epoch 16/40\n",
      "99/99 [==============================] - 0s 733us/step - loss: 0.9246 - wine_quality_loss: 0.8708 - wine_type_loss: 0.0538 - wine_quality_root_mean_squared_error: 0.9331 - wine_type_accuracy: 0.9911 - val_loss: 0.8892 - val_wine_quality_loss: 0.8388 - val_wine_type_loss: 0.0504 - val_wine_quality_root_mean_squared_error: 0.9159 - val_wine_type_accuracy: 0.9924\n",
      "Epoch 17/40\n",
      "99/99 [==============================] - 0s 747us/step - loss: 0.8723 - wine_quality_loss: 0.8218 - wine_type_loss: 0.0505 - wine_quality_root_mean_squared_error: 0.9066 - wine_type_accuracy: 0.9914 - val_loss: 0.8418 - val_wine_quality_loss: 0.7943 - val_wine_type_loss: 0.0475 - val_wine_quality_root_mean_squared_error: 0.8912 - val_wine_type_accuracy: 0.9924\n",
      "Epoch 18/40\n",
      "99/99 [==============================] - 0s 789us/step - loss: 0.8270 - wine_quality_loss: 0.7793 - wine_type_loss: 0.0478 - wine_quality_root_mean_squared_error: 0.8828 - wine_type_accuracy: 0.9914 - val_loss: 0.7938 - val_wine_quality_loss: 0.7484 - val_wine_type_loss: 0.0454 - val_wine_quality_root_mean_squared_error: 0.8651 - val_wine_type_accuracy: 0.9924\n",
      "Epoch 19/40\n",
      "99/99 [==============================] - 0s 789us/step - loss: 0.7816 - wine_quality_loss: 0.7360 - wine_type_loss: 0.0456 - wine_quality_root_mean_squared_error: 0.8579 - wine_type_accuracy: 0.9921 - val_loss: 0.7502 - val_wine_quality_loss: 0.7068 - val_wine_type_loss: 0.0434 - val_wine_quality_root_mean_squared_error: 0.8407 - val_wine_type_accuracy: 0.9924\n",
      "Epoch 20/40\n",
      "99/99 [==============================] - 0s 746us/step - loss: 0.7406 - wine_quality_loss: 0.6967 - wine_type_loss: 0.0439 - wine_quality_root_mean_squared_error: 0.8347 - wine_type_accuracy: 0.9914 - val_loss: 0.7130 - val_wine_quality_loss: 0.6713 - val_wine_type_loss: 0.0417 - val_wine_quality_root_mean_squared_error: 0.8193 - val_wine_type_accuracy: 0.9924\n",
      "Epoch 21/40\n",
      "99/99 [==============================] - 0s 764us/step - loss: 0.7009 - wine_quality_loss: 0.6587 - wine_type_loss: 0.0422 - wine_quality_root_mean_squared_error: 0.8116 - wine_type_accuracy: 0.9918 - val_loss: 0.6761 - val_wine_quality_loss: 0.6358 - val_wine_type_loss: 0.0403 - val_wine_quality_root_mean_squared_error: 0.7974 - val_wine_type_accuracy: 0.9924\n",
      "Epoch 22/40\n",
      "99/99 [==============================] - 0s 772us/step - loss: 0.6681 - wine_quality_loss: 0.6272 - wine_type_loss: 0.0409 - wine_quality_root_mean_squared_error: 0.7920 - wine_type_accuracy: 0.9924 - val_loss: 0.6414 - val_wine_quality_loss: 0.6023 - val_wine_type_loss: 0.0391 - val_wine_quality_root_mean_squared_error: 0.7761 - val_wine_type_accuracy: 0.9937\n",
      "Epoch 23/40\n",
      "99/99 [==============================] - 0s 745us/step - loss: 0.6357 - wine_quality_loss: 0.5960 - wine_type_loss: 0.0397 - wine_quality_root_mean_squared_error: 0.7720 - wine_type_accuracy: 0.9927 - val_loss: 0.6183 - val_wine_quality_loss: 0.5801 - val_wine_type_loss: 0.0382 - val_wine_quality_root_mean_squared_error: 0.7617 - val_wine_type_accuracy: 0.9937\n",
      "Epoch 24/40\n",
      "99/99 [==============================] - 0s 744us/step - loss: 0.6090 - wine_quality_loss: 0.5702 - wine_type_loss: 0.0387 - wine_quality_root_mean_squared_error: 0.7551 - wine_type_accuracy: 0.9927 - val_loss: 0.5851 - val_wine_quality_loss: 0.5479 - val_wine_type_loss: 0.0373 - val_wine_quality_root_mean_squared_error: 0.7402 - val_wine_type_accuracy: 0.9937\n",
      "Epoch 25/40\n",
      "99/99 [==============================] - 0s 745us/step - loss: 0.5796 - wine_quality_loss: 0.5418 - wine_type_loss: 0.0378 - wine_quality_root_mean_squared_error: 0.7361 - wine_type_accuracy: 0.9933 - val_loss: 0.5702 - val_wine_quality_loss: 0.5339 - val_wine_type_loss: 0.0363 - val_wine_quality_root_mean_squared_error: 0.7307 - val_wine_type_accuracy: 0.9949\n",
      "Epoch 26/40\n",
      "99/99 [==============================] - 0s 744us/step - loss: 0.5552 - wine_quality_loss: 0.5182 - wine_type_loss: 0.0370 - wine_quality_root_mean_squared_error: 0.7199 - wine_type_accuracy: 0.9933 - val_loss: 0.5432 - val_wine_quality_loss: 0.5073 - val_wine_type_loss: 0.0358 - val_wine_quality_root_mean_squared_error: 0.7123 - val_wine_type_accuracy: 0.9949\n",
      "Epoch 27/40\n",
      "99/99 [==============================] - 0s 753us/step - loss: 0.5344 - wine_quality_loss: 0.4980 - wine_type_loss: 0.0364 - wine_quality_root_mean_squared_error: 0.7057 - wine_type_accuracy: 0.9933 - val_loss: 0.5262 - val_wine_quality_loss: 0.4909 - val_wine_type_loss: 0.0353 - val_wine_quality_root_mean_squared_error: 0.7007 - val_wine_type_accuracy: 0.9949\n",
      "Epoch 28/40\n",
      "99/99 [==============================] - 0s 732us/step - loss: 0.5140 - wine_quality_loss: 0.4782 - wine_type_loss: 0.0357 - wine_quality_root_mean_squared_error: 0.6915 - wine_type_accuracy: 0.9933 - val_loss: 0.5035 - val_wine_quality_loss: 0.4686 - val_wine_type_loss: 0.0349 - val_wine_quality_root_mean_squared_error: 0.6845 - val_wine_type_accuracy: 0.9962\n",
      "Epoch 29/40\n",
      "99/99 [==============================] - 0s 756us/step - loss: 0.4961 - wine_quality_loss: 0.4610 - wine_type_loss: 0.0351 - wine_quality_root_mean_squared_error: 0.6789 - wine_type_accuracy: 0.9937 - val_loss: 0.4832 - val_wine_quality_loss: 0.4489 - val_wine_type_loss: 0.0344 - val_wine_quality_root_mean_squared_error: 0.6700 - val_wine_type_accuracy: 0.9962\n",
      "Epoch 30/40\n",
      "99/99 [==============================] - 0s 717us/step - loss: 0.4795 - wine_quality_loss: 0.4449 - wine_type_loss: 0.0346 - wine_quality_root_mean_squared_error: 0.6670 - wine_type_accuracy: 0.9937 - val_loss: 0.4663 - val_wine_quality_loss: 0.4322 - val_wine_type_loss: 0.0341 - val_wine_quality_root_mean_squared_error: 0.6575 - val_wine_type_accuracy: 0.9949\n",
      "Epoch 31/40\n",
      "99/99 [==============================] - 0s 730us/step - loss: 0.4639 - wine_quality_loss: 0.4297 - wine_type_loss: 0.0342 - wine_quality_root_mean_squared_error: 0.6555 - wine_type_accuracy: 0.9937 - val_loss: 0.4498 - val_wine_quality_loss: 0.4161 - val_wine_type_loss: 0.0337 - val_wine_quality_root_mean_squared_error: 0.6451 - val_wine_type_accuracy: 0.9949\n",
      "Epoch 32/40\n",
      "99/99 [==============================] - 0s 735us/step - loss: 0.4503 - wine_quality_loss: 0.4166 - wine_type_loss: 0.0337 - wine_quality_root_mean_squared_error: 0.6454 - wine_type_accuracy: 0.9933 - val_loss: 0.4430 - val_wine_quality_loss: 0.4094 - val_wine_type_loss: 0.0336 - val_wine_quality_root_mean_squared_error: 0.6399 - val_wine_type_accuracy: 0.9949\n",
      "Epoch 33/40\n",
      "99/99 [==============================] - 0s 722us/step - loss: 0.4388 - wine_quality_loss: 0.4055 - wine_type_loss: 0.0333 - wine_quality_root_mean_squared_error: 0.6368 - wine_type_accuracy: 0.9937 - val_loss: 0.4287 - val_wine_quality_loss: 0.3954 - val_wine_type_loss: 0.0333 - val_wine_quality_root_mean_squared_error: 0.6288 - val_wine_type_accuracy: 0.9949\n",
      "Epoch 34/40\n",
      "99/99 [==============================] - 0s 718us/step - loss: 0.4270 - wine_quality_loss: 0.3941 - wine_type_loss: 0.0329 - wine_quality_root_mean_squared_error: 0.6278 - wine_type_accuracy: 0.9937 - val_loss: 0.4284 - val_wine_quality_loss: 0.3954 - val_wine_type_loss: 0.0330 - val_wine_quality_root_mean_squared_error: 0.6288 - val_wine_type_accuracy: 0.9949\n",
      "Epoch 35/40\n",
      "99/99 [==============================] - 0s 711us/step - loss: 0.4181 - wine_quality_loss: 0.3856 - wine_type_loss: 0.0326 - wine_quality_root_mean_squared_error: 0.6209 - wine_type_accuracy: 0.9937 - val_loss: 0.4116 - val_wine_quality_loss: 0.3787 - val_wine_type_loss: 0.0328 - val_wine_quality_root_mean_squared_error: 0.6154 - val_wine_type_accuracy: 0.9949\n",
      "Epoch 36/40\n",
      "99/99 [==============================] - 0s 724us/step - loss: 0.4104 - wine_quality_loss: 0.3781 - wine_type_loss: 0.0322 - wine_quality_root_mean_squared_error: 0.6149 - wine_type_accuracy: 0.9937 - val_loss: 0.4014 - val_wine_quality_loss: 0.3687 - val_wine_type_loss: 0.0327 - val_wine_quality_root_mean_squared_error: 0.6072 - val_wine_type_accuracy: 0.9949\n",
      "Epoch 37/40\n",
      "99/99 [==============================] - 0s 720us/step - loss: 0.4026 - wine_quality_loss: 0.3707 - wine_type_loss: 0.0319 - wine_quality_root_mean_squared_error: 0.6088 - wine_type_accuracy: 0.9937 - val_loss: 0.3984 - val_wine_quality_loss: 0.3660 - val_wine_type_loss: 0.0325 - val_wine_quality_root_mean_squared_error: 0.6050 - val_wine_type_accuracy: 0.9949\n",
      "Epoch 38/40\n",
      "99/99 [==============================] - 0s 748us/step - loss: 0.3955 - wine_quality_loss: 0.3638 - wine_type_loss: 0.0317 - wine_quality_root_mean_squared_error: 0.6031 - wine_type_accuracy: 0.9937 - val_loss: 0.3918 - val_wine_quality_loss: 0.3595 - val_wine_type_loss: 0.0323 - val_wine_quality_root_mean_squared_error: 0.5996 - val_wine_type_accuracy: 0.9949\n",
      "Epoch 39/40\n",
      "99/99 [==============================] - 0s 736us/step - loss: 0.3898 - wine_quality_loss: 0.3585 - wine_type_loss: 0.0314 - wine_quality_root_mean_squared_error: 0.5987 - wine_type_accuracy: 0.9937 - val_loss: 0.3840 - val_wine_quality_loss: 0.3519 - val_wine_type_loss: 0.0321 - val_wine_quality_root_mean_squared_error: 0.5932 - val_wine_type_accuracy: 0.9949\n",
      "Epoch 40/40\n",
      "99/99 [==============================] - 0s 747us/step - loss: 0.3829 - wine_quality_loss: 0.3519 - wine_type_loss: 0.0311 - wine_quality_root_mean_squared_error: 0.5932 - wine_type_accuracy: 0.9940 - val_loss: 0.3798 - val_wine_quality_loss: 0.3477 - val_wine_type_loss: 0.0321 - val_wine_quality_root_mean_squared_error: 0.5897 - val_wine_type_accuracy: 0.9949\n"
     ]
    }
   ],
   "source": [
    "## Please uncomment all lines in this cell and replace those marked with `# YOUR CODE HERE`.\n",
    "## You can select all lines in this code cell with Ctrl+A (Windows/Linux) or Cmd+A (Mac), then press Ctrl+/ (Windows/Linux) or Cmd+/ (Mac) to uncomment.\n",
    "\n",
    "\n",
    "\n",
    "history = model.fit(norm_train_X, train_Y,\n",
    "                    epochs = 40, validation_data=(norm_val_X, val_Y))"
   ]
  },
  {
   "cell_type": "code",
   "execution_count": 54,
   "metadata": {
    "deletable": false,
    "editable": false,
    "nbgrader": {
     "cell_type": "code",
     "checksum": "fadad8896eda9c8c2115970724b15508",
     "grade": true,
     "grade_id": "cell-eb4d5b41bef8f0ab",
     "locked": true,
     "points": 1,
     "schema_version": 3,
     "solution": false,
     "task": false
    }
   },
   "outputs": [
    {
     "ename": "KeyError",
     "evalue": "'samples'",
     "output_type": "error",
     "traceback": [
      "\u001b[0;31m---------------------------------------------------------------------------\u001b[0m",
      "\u001b[0;31mKeyError\u001b[0m                                  Traceback (most recent call last)",
      "Cell \u001b[0;32mIn [54], line 1\u001b[0m\n\u001b[0;32m----> 1\u001b[0m utils\u001b[39m.\u001b[39;49mtest_history(history)\n",
      "File \u001b[0;32m~/Desktop/coursera/AdvancedTF/Course1/week1/Files/home/jovyan/work/release/W1_Assignment/utils.py:334\u001b[0m, in \u001b[0;36mtest_history\u001b[0;34m(history)\u001b[0m\n\u001b[1;32m    321\u001b[0m \u001b[39mdef\u001b[39;00m \u001b[39mtest_history\u001b[39m(history):\n\u001b[1;32m    323\u001b[0m     vars_history \u001b[39m=\u001b[39m \u001b[39mvars\u001b[39m(history)\n\u001b[1;32m    325\u001b[0m     test_cases \u001b[39m=\u001b[39m [\n\u001b[1;32m    326\u001b[0m         {\n\u001b[1;32m    327\u001b[0m             \u001b[39m\"\u001b[39m\u001b[39mname\u001b[39m\u001b[39m\"\u001b[39m: \u001b[39m\"\u001b[39m\u001b[39mtype_check\u001b[39m\u001b[39m\"\u001b[39m,\n\u001b[1;32m    328\u001b[0m             \u001b[39m\"\u001b[39m\u001b[39mresult\u001b[39m\u001b[39m\"\u001b[39m: \u001b[39mtype\u001b[39m(history),\n\u001b[1;32m    329\u001b[0m             \u001b[39m\"\u001b[39m\u001b[39mexpected\u001b[39m\u001b[39m\"\u001b[39m: tf\u001b[39m.\u001b[39mkeras\u001b[39m.\u001b[39mcallbacks\u001b[39m.\u001b[39mHistory,\n\u001b[1;32m    330\u001b[0m             \u001b[39m\"\u001b[39m\u001b[39merror_message\u001b[39m\u001b[39m\"\u001b[39m: \u001b[39m'\u001b[39m\u001b[39mhistory type is incorrect. Please check model.fit().\u001b[39m\u001b[39m'\u001b[39m\n\u001b[1;32m    331\u001b[0m         },\n\u001b[1;32m    332\u001b[0m         {\n\u001b[1;32m    333\u001b[0m             \u001b[39m\"\u001b[39m\u001b[39mname\u001b[39m\u001b[39m\"\u001b[39m: \u001b[39m\"\u001b[39m\u001b[39mparams_samples_check\u001b[39m\u001b[39m\"\u001b[39m,\n\u001b[0;32m--> 334\u001b[0m             \u001b[39m\"\u001b[39m\u001b[39mresult\u001b[39m\u001b[39m\"\u001b[39m: vars_history[\u001b[39m'\u001b[39;49m\u001b[39mparams\u001b[39;49m\u001b[39m'\u001b[39;49m][\u001b[39m'\u001b[39;49m\u001b[39msamples\u001b[39;49m\u001b[39m'\u001b[39;49m],\n\u001b[1;32m    335\u001b[0m             \u001b[39m\"\u001b[39m\u001b[39mexpected\u001b[39m\u001b[39m\"\u001b[39m: \u001b[39m3155\u001b[39m,\n\u001b[1;32m    336\u001b[0m             \u001b[39m\"\u001b[39m\u001b[39merror_message\u001b[39m\u001b[39m\"\u001b[39m: \u001b[39m'\u001b[39m\u001b[39mTraining samples is incorrect. Please check arguments to model.fit().\u001b[39m\u001b[39m'\u001b[39m\n\u001b[1;32m    337\u001b[0m         },\n\u001b[1;32m    338\u001b[0m         {\n\u001b[1;32m    339\u001b[0m             \u001b[39m\"\u001b[39m\u001b[39mname\u001b[39m\u001b[39m\"\u001b[39m: \u001b[39m\"\u001b[39m\u001b[39mparams_do_validation_check\u001b[39m\u001b[39m\"\u001b[39m,\n\u001b[1;32m    340\u001b[0m             \u001b[39m\"\u001b[39m\u001b[39mresult\u001b[39m\u001b[39m\"\u001b[39m: vars_history[\u001b[39m'\u001b[39m\u001b[39mparams\u001b[39m\u001b[39m'\u001b[39m][\u001b[39m'\u001b[39m\u001b[39mdo_validation\u001b[39m\u001b[39m'\u001b[39m],\n\u001b[1;32m    341\u001b[0m             \u001b[39m\"\u001b[39m\u001b[39mexpected\u001b[39m\u001b[39m\"\u001b[39m: \u001b[39mTrue\u001b[39;00m,\n\u001b[1;32m    342\u001b[0m             \u001b[39m\"\u001b[39m\u001b[39merror_message\u001b[39m\u001b[39m\"\u001b[39m: \u001b[39m'\u001b[39m\u001b[39mNo validation data is present. Please check arguments to model.fit().\u001b[39m\u001b[39m'\u001b[39m\n\u001b[1;32m    343\u001b[0m         },\n\u001b[1;32m    344\u001b[0m     ]\n\u001b[1;32m    346\u001b[0m     test_loop(test_cases)\n",
      "\u001b[0;31mKeyError\u001b[0m: 'samples'"
     ]
    }
   ],
   "source": [
    "utils.test_history(history)"
   ]
  },
  {
   "cell_type": "code",
   "execution_count": 55,
   "metadata": {
    "colab": {},
    "colab_type": "code",
    "id": "CubF2J2gSf6q"
   },
   "outputs": [
    {
     "name": "stdout",
     "output_type": "stream",
     "text": [
      "25/25 [==============================] - 0s 415us/step - loss: 0.3798 - wine_quality_loss: 0.3477 - wine_type_loss: 0.0321 - wine_quality_root_mean_squared_error: 0.5897 - wine_type_accuracy: 0.9949\n",
      "\n",
      "loss: 0.3798171281814575\n",
      "wine_quality_loss: 0.34774354100227356\n",
      "wine_type_loss: 0.03207359462976456\n",
      "wine_quality_rmse: 0.5896978378295898\n",
      "wine_type_accuracy: 0.9949302673339844\n"
     ]
    }
   ],
   "source": [
    "# Gather the training metrics\n",
    "loss, wine_quality_loss, wine_type_loss, wine_quality_rmse, wine_type_accuracy = model.evaluate(x=norm_val_X, y=val_Y)\n",
    "\n",
    "print()\n",
    "print(f'loss: {loss}')\n",
    "print(f'wine_quality_loss: {wine_quality_loss}')\n",
    "print(f'wine_type_loss: {wine_type_loss}')\n",
    "print(f'wine_quality_rmse: {wine_quality_rmse}')\n",
    "print(f'wine_type_accuracy: {wine_type_accuracy}')\n",
    "\n",
    "# EXPECTED VALUES\n",
    "# ~ 0.30 - 0.38\n",
    "# ~ 0.30 - 0.38\n",
    "# ~ 0.018 - 0.036\n",
    "# ~ 0.50 - 0.62\n",
    "# ~ 0.97 - 1.0\n",
    "\n",
    "# Example:\n",
    "#0.3657050132751465\n",
    "#0.3463745415210724\n",
    "#0.019330406561493874\n",
    "#0.5885359048843384\n",
    "#0.9974651336669922"
   ]
  },
  {
   "cell_type": "markdown",
   "metadata": {
    "colab_type": "text",
    "id": "gPtTGAP4usnm"
   },
   "source": [
    "## Analyze the Model Performance\n",
    "\n",
    "Note that the model has two outputs. The output at index 0 is quality and index 1 is wine type\n",
    "\n",
    "So, round the quality predictions to the nearest integer."
   ]
  },
  {
   "cell_type": "code",
   "execution_count": 56,
   "metadata": {
    "colab": {},
    "colab_type": "code",
    "id": "tBq9PEeAaW-Y"
   },
   "outputs": [],
   "source": [
    "predictions = model.predict(norm_test_X)\n",
    "quality_pred = predictions[0]\n",
    "type_pred = predictions[1]"
   ]
  },
  {
   "cell_type": "code",
   "execution_count": 57,
   "metadata": {
    "colab": {},
    "colab_type": "code",
    "id": "YLhgTR4xTIxj"
   },
   "outputs": [
    {
     "name": "stdout",
     "output_type": "stream",
     "text": [
      "[5.5066824]\n"
     ]
    }
   ],
   "source": [
    "print(quality_pred[0])\n",
    "\n",
    "# EXPECTED OUTPUT\n",
    "# 5.4 - 6.0"
   ]
  },
  {
   "cell_type": "code",
   "execution_count": 58,
   "metadata": {
    "colab": {},
    "colab_type": "code",
    "id": "MPi-eYfGTUXi"
   },
   "outputs": [
    {
     "name": "stdout",
     "output_type": "stream",
     "text": [
      "[0.00192571]\n",
      "[0.9998592]\n"
     ]
    }
   ],
   "source": [
    "print(type_pred[0])\n",
    "print(type_pred[944])\n",
    "\n",
    "# EXPECTED OUTPUT\n",
    "# A number close to zero\n",
    "# A number close to or equal to 1"
   ]
  },
  {
   "cell_type": "markdown",
   "metadata": {
    "colab_type": "text",
    "id": "Kohk-9C6vt_s"
   },
   "source": [
    "### Plot Utilities\n",
    "\n",
    "We define a few utilities to visualize the model performance."
   ]
  },
  {
   "cell_type": "code",
   "execution_count": 59,
   "metadata": {
    "colab": {},
    "colab_type": "code",
    "id": "62gEOFUhn6aQ"
   },
   "outputs": [],
   "source": [
    "def plot_metrics(metric_name, title, ylim=5):\n",
    "    plt.title(title)\n",
    "    plt.ylim(0,ylim)\n",
    "    plt.plot(history.history[metric_name],color='blue',label=metric_name)\n",
    "    plt.plot(history.history['val_' + metric_name],color='green',label='val_' + metric_name)\n"
   ]
  },
  {
   "cell_type": "code",
   "execution_count": 60,
   "metadata": {
    "colab": {},
    "colab_type": "code",
    "id": "6rfgSx7uz5dj"
   },
   "outputs": [],
   "source": [
    "def plot_confusion_matrix(y_true, y_pred, title='', labels=[0,1]):\n",
    "    cm = confusion_matrix(y_true, y_pred)\n",
    "    fig = plt.figure()\n",
    "    ax = fig.add_subplot(111)\n",
    "    cax = ax.matshow(cm)\n",
    "    plt.title('Confusion matrix of the classifier')\n",
    "    fig.colorbar(cax)\n",
    "    ax.set_xticklabels([''] + labels)\n",
    "    ax.set_yticklabels([''] + labels)\n",
    "    plt.xlabel('Predicted')\n",
    "    plt.ylabel('True')\n",
    "    fmt = 'd'\n",
    "    thresh = cm.max() / 2.\n",
    "    for i, j in itertools.product(range(cm.shape[0]), range(cm.shape[1])):\n",
    "          plt.text(j, i, format(cm[i, j], fmt),\n",
    "                  horizontalalignment=\"center\",\n",
    "                  color=\"black\" if cm[i, j] > thresh else \"white\")\n",
    "    plt.show()"
   ]
  },
  {
   "cell_type": "code",
   "execution_count": 61,
   "metadata": {
    "colab": {},
    "colab_type": "code",
    "id": "dfVLIqi017Vf"
   },
   "outputs": [],
   "source": [
    "def plot_diff(y_true, y_pred, title = '' ):\n",
    "    plt.scatter(y_true, y_pred)\n",
    "    plt.title(title)\n",
    "    plt.xlabel('True Values')\n",
    "    plt.ylabel('Predictions')\n",
    "    plt.axis('equal')\n",
    "    plt.axis('square')\n",
    "    plt.plot([-100, 100], [-100, 100])\n",
    "    return plt"
   ]
  },
  {
   "cell_type": "markdown",
   "metadata": {
    "colab_type": "text",
    "id": "8sd1jdFbwE0I"
   },
   "source": [
    "### Plots for Metrics"
   ]
  },
  {
   "cell_type": "code",
   "execution_count": 62,
   "metadata": {
    "colab": {},
    "colab_type": "code",
    "id": "f3MwZ5J1pOfj"
   },
   "outputs": [
    {
     "data": {
      "image/png": "[encoded data removed]",
      "text/plain": [
       "<Figure size 640x480 with 1 Axes>"
      ]
     },
     "metadata": {},
     "output_type": "display_data"
    }
   ],
   "source": [
    "plot_metrics('wine_quality_root_mean_squared_error', 'RMSE', ylim=2)"
   ]
  },
  {
   "cell_type": "code",
   "execution_count": 63,
   "metadata": {
    "colab": {},
    "colab_type": "code",
    "id": "QIAxEezCppnd"
   },
   "outputs": [
    {
     "data": {
      "image/png": "[encoded data removed]",
      "text/plain": [
       "<Figure size 640x480 with 1 Axes>"
      ]
     },
     "metadata": {},
     "output_type": "display_data"
    }
   ],
   "source": [
    "plot_metrics('wine_type_loss', 'Wine Type Loss', ylim=0.2)"
   ]
  },
  {
   "cell_type": "markdown",
   "metadata": {
    "colab_type": "text",
    "id": "uYV9AOAMwI9p"
   },
   "source": [
    "### Plots for Confusion Matrix\n",
    "\n",
    "Plot the confusion matrices for wine type. You can see that the model performs well for prediction of wine type from the confusion matrix and the loss metrics."
   ]
  },
  {
   "cell_type": "code",
   "execution_count": 64,
   "metadata": {
    "colab": {},
    "colab_type": "code",
    "id": "C3hvTYxIaf3n"
   },
   "outputs": [
    {
     "name": "stderr",
     "output_type": "stream",
     "text": [
      "/var/folders/2v/1h4z3r3x6t54k52q2qclwk7r0000gq/T/ipykernel_48633/1339240941.py:8: UserWarning: FixedFormatter should only be used together with FixedLocator\n",
      "  ax.set_xticklabels([''] + labels)\n",
      "/var/folders/2v/1h4z3r3x6t54k52q2qclwk7r0000gq/T/ipykernel_48633/1339240941.py:9: UserWarning: FixedFormatter should only be used together with FixedLocator\n",
      "  ax.set_yticklabels([''] + labels)\n"
     ]
    },
    {
     "data": {
      "image/png": "[encoded data removed]",
      "text/plain": [
       "<Figure size 640x480 with 2 Axes>"
      ]
     },
     "metadata": {},
     "output_type": "display_data"
    }
   ],
   "source": [
    "plot_confusion_matrix(test_Y[1], np.round(type_pred), title='Wine Type', labels = [0, 1])"
   ]
  },
  {
   "cell_type": "code",
   "execution_count": 65,
   "metadata": {
    "colab": {},
    "colab_type": "code",
    "id": "GW91ym8P2I5y"
   },
   "outputs": [
    {
     "data": {
      "image/png": "[encoded data removed]",
      "text/plain": [
       "<Figure size 640x480 with 1 Axes>"
      ]
     },
     "metadata": {},
     "output_type": "display_data"
    }
   ],
   "source": [
    "scatter_plot = plot_diff(test_Y[0], quality_pred, title='Type')"
   ]
  },
  {
   "cell_type": "code",
   "execution_count": null,
   "metadata": {},
   "outputs": [],
   "source": []
  }
 ],
 "metadata": {
  "colab": {
   "include_colab_link": true,
   "name": "exercise-answer.ipynb",
   "provenance": []
  },
  "kernelspec": {
   "display_name": "Python 3.8.15 ('tf')",
   "language": "python",
   "name": "python3"
  },
  "language_info": {
   "codemirror_mode": {
    "name": "ipython",
    "version": 3
   },
   "file_extension": ".py",
   "mimetype": "text/x-python",
   "name": "python",
   "nbconvert_exporter": "python",
   "pygments_lexer": "ipython3",
   "version": "3.8.15"
  },
  "vscode": {
   "interpreter": {
    "hash": "79cb9a341a2c8b9f160adf7f9d8e928bf8baa7746e06a858b9bb87264e2dea7d"
   }
  }
 },
 "nbformat": 4,
 "nbformat_minor": 4
}
