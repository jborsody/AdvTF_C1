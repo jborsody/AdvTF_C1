{
  "cells": [
    {
      "cell_type": "markdown",
      "metadata": {
        "id": "nBXbFax4YP34"
      },
      "source": [
        "## Ungraded Lab: MNIST Autoencoder\n",
        "\n",
        "You will now work on an autoencoder that works on the [MNIST dataset](https://www.tensorflow.org/datasets/catalog/mnist). This will encode the inputs to lower resolution images. The decoder should then be able to generate the original input from this compressed representation."
      ]
    },
    {
      "cell_type": "markdown",
      "metadata": {
        "id": "9ZYaLxnBYUKA"
      },
      "source": [
        "## Imports"
      ]
    },
    {
      "cell_type": "code",
      "execution_count": 1,
      "metadata": {
        "id": "3EXwoz-KHtWO"
      },
      "outputs": [],
      "source": [
        "try:\n",
        "  # %tensorflow_version only exists in Colab.\n",
        "  %tensorflow_version 2.x\n",
        "except Exception:\n",
        "  pass\n",
        "  \n",
        "import tensorflow as tf\n",
        "import tensorflow_datasets as tfds\n",
        "\n",
        "import numpy as np\n",
        "import matplotlib.pyplot as plt"
      ]
    },
    {
      "cell_type": "markdown",
      "metadata": {
        "id": "Is05FyRgYX0c"
      },
      "source": [
        "## Prepare the Dataset"
      ]
    },
    {
      "cell_type": "markdown",
      "metadata": {
        "id": "Xuhe2ksPI8A0"
      },
      "source": [
        "You will load the MNIST data from TFDS into train and test sets. Let's first define a preprocessing function for normalizing and flattening the images. Since we'll be training an autoencoder, this will return `image, image` because the input will also be the target or label while training.\n"
      ]
    },
    {
      "cell_type": "code",
      "execution_count": 2,
      "metadata": {
        "id": "t9F7YsCNIKSA"
      },
      "outputs": [],
      "source": [
        "def map_image(image, label):\n",
        "  '''Normalizes and flattens the image. Returns image as input and label.'''\n",
        "  image = tf.cast(image, dtype=tf.float32)\n",
        "  image = image / 255.0\n",
        "  image = tf.reshape(image, shape=(784,))\n",
        "\n",
        "  return image, image"
      ]
    },
    {
      "cell_type": "code",
      "execution_count": 3,
      "metadata": {
        "id": "08I1mbYSLbsC"
      },
      "outputs": [
        {
          "name": "stdout",
          "output_type": "stream",
          "text": [
            "\u001b[1mDownloading and preparing dataset Unknown size (download: Unknown size, generated: Unknown size, total: Unknown size) to /Users/jborsody/tensorflow_datasets/mnist/3.0.1...\u001b[0m\n"
          ]
        },
        {
          "name": "stderr",
          "output_type": "stream",
          "text": [
            "2023-04-06 10:05:59.515132: W tensorflow/core/platform/cloud/google_auth_provider.cc:184] All attempts to get a Google authentication bearer token failed, returning an empty token. Retrieving token from files failed with \"NOT_FOUND: Could not locate the credentials file.\". Retrieving token from GCE failed with \"FAILED_PRECONDITION: Error executing an HTTP request: libcurl code 6 meaning 'Couldn't resolve host name', error details: Could not resolve host: metadata\".\n"
          ]
        },
        {
          "data": {
            "application/vnd.jupyter.widget-view+json": {
              "model_id": "d37e24d4597049f8ab17bb77cdd7eae9",
              "version_major": 2,
              "version_minor": 0
            },
            "text/plain": [
              "HBox(children=(IntProgress(value=0, description='Dl Completed...', max=5, style=ProgressStyle(description_widt…"
            ]
          },
          "metadata": {},
          "output_type": "display_data"
        },
        {
          "name": "stdout",
          "output_type": "stream",
          "text": [
            "\n",
            "\u001b[1mDataset mnist downloaded and prepared to /Users/jborsody/tensorflow_datasets/mnist/3.0.1. Subsequent calls will reuse this data.\u001b[0m\n"
          ]
        }
      ],
      "source": [
        "# Load the train and test sets from TFDS\n",
        "\n",
        "BATCH_SIZE = 128\n",
        "SHUFFLE_BUFFER_SIZE = 1024\n",
        "\n",
        "train_dataset = tfds.load('mnist', as_supervised=True, split=\"train\")\n",
        "train_dataset = train_dataset.map(map_image)\n",
        "train_dataset = train_dataset.shuffle(SHUFFLE_BUFFER_SIZE).batch(BATCH_SIZE).repeat()\n",
        "\n",
        "test_dataset = tfds.load('mnist', as_supervised=True, split=\"test\")\n",
        "test_dataset = test_dataset.map(map_image)\n",
        "test_dataset = test_dataset.batch(BATCH_SIZE).repeat()"
      ]
    },
    {
      "cell_type": "markdown",
      "metadata": {
        "id": "Z70w2KXjYk32"
      },
      "source": [
        "## Build the Model"
      ]
    },
    {
      "cell_type": "markdown",
      "metadata": {
        "id": "1MKu48lBM2Qg"
      },
      "source": [
        "You will now build a simple autoencoder to ingest the data. Like before, the encoder will compress the input and reconstructs it in the decoder output."
      ]
    },
    {
      "cell_type": "code",
      "execution_count": 5,
      "metadata": {
        "id": "KRrE2BV4IpzR"
      },
      "outputs": [],
      "source": [
        "def simple_autoencoder(inputs):\n",
        "  '''Builds the encoder and decoder using Dense layers.'''\n",
        "  encoder = tf.keras.layers.Dense(units=32, activation='relu')(inputs)\n",
        "  decoder = tf.keras.layers.Dense(units=784, activation='sigmoid')(encoder)\n",
        "  \n",
        "  return encoder, decoder\n",
        "\n",
        "# set the input shape\n",
        "inputs =  tf.keras.layers.Input(shape=(784,))\n",
        "\n",
        "# get the encoder and decoder output\n",
        "encoder_output, decoder_output = simple_autoencoder(inputs)\n",
        "\n",
        "# setup the encoder because you will visualize its output later\n",
        "encoder_model = tf.keras.Model(inputs=inputs, outputs=encoder_output)\n",
        "\n",
        "# setup the autoencoder\n",
        "autoencoder_model = tf.keras.Model(inputs=inputs, outputs=decoder_output)"
      ]
    },
    {
      "cell_type": "markdown",
      "metadata": {
        "id": "8k9OnSM4YxJd"
      },
      "source": [
        "## Compile the Model"
      ]
    },
    {
      "cell_type": "markdown",
      "metadata": {
        "id": "DvvDqY_XQPyb"
      },
      "source": [
        "You will setup the model for training. You can use binary crossentropy to measure the loss between pixel values that range from 0 (black) to 1 (white)."
      ]
    },
    {
      "cell_type": "code",
      "execution_count": 6,
      "metadata": {
        "id": "cFwmAhWAYwcc"
      },
      "outputs": [],
      "source": [
        "autoencoder_model.compile(\n",
        "    optimizer=tf.keras.optimizers.Adam(), \n",
        "    loss='binary_crossentropy')"
      ]
    },
    {
      "cell_type": "markdown",
      "metadata": {
        "id": "zzLf0oQ1Y0cI"
      },
      "source": [
        "## Train the Model"
      ]
    },
    {
      "cell_type": "code",
      "execution_count": 7,
      "metadata": {
        "id": "vsaSjlAgYz-7"
      },
      "outputs": [
        {
          "name": "stdout",
          "output_type": "stream",
          "text": [
            "Epoch 1/50\n",
            " 15/468 [..............................] - ETA: 1s - loss: 0.6522  "
          ]
        },
        {
          "name": "stderr",
          "output_type": "stream",
          "text": [
            "2023-04-06 11:18:57.393746: W tensorflow/tsl/platform/profile_utils/cpu_utils.cc:128] Failed to get CPU frequency: 0 Hz\n"
          ]
        },
        {
          "name": "stdout",
          "output_type": "stream",
          "text": [
            "468/468 [==============================] - 2s 3ms/step - loss: 0.2280\n",
            "Epoch 2/50\n",
            "468/468 [==============================] - 1s 3ms/step - loss: 0.1412\n",
            "Epoch 3/50\n",
            "468/468 [==============================] - 1s 3ms/step - loss: 0.1190\n",
            "Epoch 4/50\n",
            "468/468 [==============================] - 1s 3ms/step - loss: 0.1078\n",
            "Epoch 5/50\n",
            "468/468 [==============================] - 1s 3ms/step - loss: 0.1014\n",
            "Epoch 6/50\n",
            "468/468 [==============================] - 1s 3ms/step - loss: 0.0977\n",
            "Epoch 7/50\n",
            "468/468 [==============================] - 1s 3ms/step - loss: 0.0958\n",
            "Epoch 8/50\n",
            "468/468 [==============================] - 1s 3ms/step - loss: 0.0948\n",
            "Epoch 9/50\n",
            "468/468 [==============================] - 1s 3ms/step - loss: 0.0942\n",
            "Epoch 10/50\n",
            "468/468 [==============================] - 1s 3ms/step - loss: 0.0939\n",
            "Epoch 11/50\n",
            "468/468 [==============================] - 1s 3ms/step - loss: 0.0937\n",
            "Epoch 12/50\n",
            "468/468 [==============================] - 1s 3ms/step - loss: 0.0936\n",
            "Epoch 13/50\n",
            "468/468 [==============================] - 1s 3ms/step - loss: 0.0934\n",
            "Epoch 14/50\n",
            "468/468 [==============================] - 1s 3ms/step - loss: 0.0934\n",
            "Epoch 15/50\n",
            "468/468 [==============================] - 1s 3ms/step - loss: 0.0932\n",
            "Epoch 16/50\n",
            "468/468 [==============================] - 1s 3ms/step - loss: 0.0932\n",
            "Epoch 17/50\n",
            "468/468 [==============================] - 1s 3ms/step - loss: 0.0931\n",
            "Epoch 18/50\n",
            "468/468 [==============================] - 1s 3ms/step - loss: 0.0931\n",
            "Epoch 19/50\n",
            "468/468 [==============================] - 1s 3ms/step - loss: 0.0930\n",
            "Epoch 20/50\n",
            "468/468 [==============================] - 1s 3ms/step - loss: 0.0930\n",
            "Epoch 21/50\n",
            "468/468 [==============================] - 2s 3ms/step - loss: 0.0929\n",
            "Epoch 22/50\n",
            "468/468 [==============================] - 1s 3ms/step - loss: 0.0929\n",
            "Epoch 23/50\n",
            "468/468 [==============================] - 2s 3ms/step - loss: 0.0929\n",
            "Epoch 24/50\n",
            "468/468 [==============================] - 1s 3ms/step - loss: 0.0929\n",
            "Epoch 25/50\n",
            "468/468 [==============================] - 1s 3ms/step - loss: 0.0928\n",
            "Epoch 26/50\n",
            "468/468 [==============================] - 2s 3ms/step - loss: 0.0928\n",
            "Epoch 27/50\n",
            "468/468 [==============================] - 1s 3ms/step - loss: 0.0928\n",
            "Epoch 28/50\n",
            "468/468 [==============================] - 1s 3ms/step - loss: 0.0928\n",
            "Epoch 29/50\n",
            "468/468 [==============================] - 1s 3ms/step - loss: 0.0928\n",
            "Epoch 30/50\n",
            "468/468 [==============================] - 1s 3ms/step - loss: 0.0928\n",
            "Epoch 31/50\n",
            "468/468 [==============================] - 1s 3ms/step - loss: 0.0928\n",
            "Epoch 32/50\n",
            "468/468 [==============================] - 1s 3ms/step - loss: 0.0927\n",
            "Epoch 33/50\n",
            "468/468 [==============================] - 1s 3ms/step - loss: 0.0928\n",
            "Epoch 34/50\n",
            "468/468 [==============================] - 1s 3ms/step - loss: 0.0927\n",
            "Epoch 35/50\n",
            "468/468 [==============================] - 1s 3ms/step - loss: 0.0927\n",
            "Epoch 36/50\n",
            "468/468 [==============================] - 1s 3ms/step - loss: 0.0927\n",
            "Epoch 37/50\n",
            "468/468 [==============================] - 1s 3ms/step - loss: 0.0927\n",
            "Epoch 38/50\n",
            "468/468 [==============================] - 1s 3ms/step - loss: 0.0927\n",
            "Epoch 39/50\n",
            "468/468 [==============================] - 1s 3ms/step - loss: 0.0926\n",
            "Epoch 40/50\n",
            "468/468 [==============================] - 1s 2ms/step - loss: 0.0927\n",
            "Epoch 41/50\n",
            "468/468 [==============================] - 1s 3ms/step - loss: 0.0926\n",
            "Epoch 42/50\n",
            "468/468 [==============================] - 1s 3ms/step - loss: 0.0926\n",
            "Epoch 43/50\n",
            "468/468 [==============================] - 1s 3ms/step - loss: 0.0927\n",
            "Epoch 44/50\n",
            "468/468 [==============================] - 1s 3ms/step - loss: 0.0926\n",
            "Epoch 45/50\n",
            "468/468 [==============================] - 1s 3ms/step - loss: 0.0926\n",
            "Epoch 46/50\n",
            "468/468 [==============================] - 1s 3ms/step - loss: 0.0926\n",
            "Epoch 47/50\n",
            "468/468 [==============================] - 1s 3ms/step - loss: 0.0926\n",
            "Epoch 48/50\n",
            "468/468 [==============================] - 1s 3ms/step - loss: 0.0926\n",
            "Epoch 49/50\n",
            "468/468 [==============================] - 1s 3ms/step - loss: 0.0925\n",
            "Epoch 50/50\n",
            "468/468 [==============================] - 1s 3ms/step - loss: 0.0926\n"
          ]
        }
      ],
      "source": [
        "train_steps = 60000 // BATCH_SIZE\n",
        "simple_auto_history = autoencoder_model.fit(train_dataset, steps_per_epoch=train_steps, epochs=50)"
      ]
    },
    {
      "cell_type": "markdown",
      "metadata": {
        "id": "1_sKLXnBZFSc"
      },
      "source": [
        "## Display sample results\n",
        "\n",
        "You can now visualize the results. The utility functions below will help in plotting the encoded and decoded values."
      ]
    },
    {
      "cell_type": "code",
      "execution_count": 8,
      "metadata": {
        "id": "5tgFgilORr0M"
      },
      "outputs": [],
      "source": [
        "def display_one_row(disp_images, offset, shape=(28, 28)):\n",
        "  '''Display sample outputs in one row.'''\n",
        "  for idx, test_image in enumerate(disp_images):\n",
        "    plt.subplot(3, 10, offset + idx + 1)\n",
        "    plt.xticks([])\n",
        "    plt.yticks([])\n",
        "    test_image = np.reshape(test_image, shape)\n",
        "    plt.imshow(test_image, cmap='gray')\n",
        "\n",
        "\n",
        "def display_results(disp_input_images, disp_encoded, disp_predicted, enc_shape=(8,4)):\n",
        "  '''Displays the input, encoded, and decoded output values.'''\n",
        "  plt.figure(figsize=(15, 5))\n",
        "  display_one_row(disp_input_images, 0, shape=(28,28,))\n",
        "  display_one_row(disp_encoded, 10, shape=enc_shape)\n",
        "  display_one_row(disp_predicted, 20, shape=(28,28,))"
      ]
    },
    {
      "cell_type": "code",
      "execution_count": 10,
      "metadata": {
        "id": "qtQyQRxRN_hH"
      },
      "outputs": [
        {
          "name": "stdout",
          "output_type": "stream",
          "text": [
            "1/1 [==============================] - 0s 32ms/step\n",
            "1/1 [==============================] - 0s 31ms/step\n"
          ]
        },
        {
          "name": "stderr",
          "output_type": "stream",
          "text": [
            "2023-04-06 12:15:49.492660: W tensorflow/core/kernels/data/cache_dataset_ops.cc:856] The calling iterator did not fully read the dataset being cached. In order to avoid unexpected truncation of the dataset, the partially cached contents of the dataset  will be discarded. This can happen if you have an input pipeline similar to `dataset.cache().take(k).repeat()`. You should use `dataset.take(k).cache().repeat()` instead.\n",
            "2023-04-06 12:15:49.525891: W tensorflow/core/kernels/data/cache_dataset_ops.cc:856] The calling iterator did not fully read the dataset being cached. In order to avoid unexpected truncation of the dataset, the partially cached contents of the dataset  will be discarded. This can happen if you have an input pipeline similar to `dataset.cache().take(k).repeat()`. You should use `dataset.take(k).cache().repeat()` instead.\n",
            "2023-04-06 12:15:49.558566: W tensorflow/core/kernels/data/cache_dataset_ops.cc:856] The calling iterator did not fully read the dataset being cached. In order to avoid unexpected truncation of the dataset, the partially cached contents of the dataset  will be discarded. This can happen if you have an input pipeline similar to `dataset.cache().take(k).repeat()`. You should use `dataset.take(k).cache().repeat()` instead.\n"
          ]
        },
        {
          "data": {
            "image/png": "[encoded data removed]",
            "text/plain": [
              "<Figure size 1500x500 with 30 Axes>"
            ]
          },
          "metadata": {},
          "output_type": "display_data"
        }
      ],
      "source": [
        "# take 1 batch of the dataset\n",
        "test_dataset = test_dataset.take(1)\n",
        "\n",
        "# take the input images and put them in a list\n",
        "output_samples = []\n",
        "for input_image, image in tfds.as_numpy(test_dataset):\n",
        "      output_samples = input_image\n",
        "\n",
        "# pick 10 random numbers to be used as indices to the list above\n",
        "idxs = np.random.choice(BATCH_SIZE, size=10)\n",
        "\n",
        "# get the encoder output\n",
        "encoded_predicted = encoder_model.predict(test_dataset)\n",
        "\n",
        "# get a prediction for the test batch\n",
        "simple_predicted = autoencoder_model.predict(test_dataset)\n",
        "\n",
        "# display the 10 samples, encodings and decoded values!\n",
        "display_results(output_samples[idxs], encoded_predicted[idxs], simple_predicted[idxs])"
      ]
    }
  ],
  "metadata": {
    "accelerator": "GPU",
    "colab": {
      "private_outputs": true,
      "provenance": []
    },
    "kernelspec": {
      "display_name": "Python 3",
      "name": "python3"
    },
    "language_info": {
      "codemirror_mode": {
        "name": "ipython",
        "version": 3
      },
      "file_extension": ".py",
      "mimetype": "text/x-python",
      "name": "python",
      "nbconvert_exporter": "python",
      "pygments_lexer": "ipython3",
      "version": "3.8.15"
    }
  },
  "nbformat": 4,
  "nbformat_minor": 0
}
